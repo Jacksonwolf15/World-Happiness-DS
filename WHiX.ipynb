{
 "cells": [
  {
   "cell_type": "markdown",
   "id": "df72e941",
   "metadata": {},
   "source": [
    "Jackson, Darshil, Talia, and Ahmad World Happiness 2021 Data stuff!"
   ]
  },
  {
   "cell_type": "code",
   "execution_count": null,
   "id": "c674fa78",
   "metadata": {},
   "outputs": [],
   "source": []
  },
  {
   "cell_type": "code",
   "execution_count": null,
   "id": "7116ba00",
   "metadata": {},
   "outputs": [],
   "source": []
  }
 ],
 "metadata": {
  "kernelspec": {
   "display_name": "Python 3",
   "language": "python",
   "name": "python3"
  },
  "language_info": {
   "codemirror_mode": {
    "name": "ipython",
    "version": 3
   },
   "file_extension": ".py",
   "mimetype": "text/x-python",
   "name": "python",
   "nbconvert_exporter": "python",
   "pygments_lexer": "ipython3",
   "version": "3.7.10"
  }
 },
 "nbformat": 4,
 "nbformat_minor": 5
}
