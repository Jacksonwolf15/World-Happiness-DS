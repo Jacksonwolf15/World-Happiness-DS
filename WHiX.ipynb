{
 "cells": [
  {
   "cell_type": "markdown",
   "id": "df72e941",
   "metadata": {},
   "source": [
    "Jackson, Darshil, Talia, and Ahmad World Happiness 2021 Data stuff!"
   ]
  },
  {
   "cell_type": "markdown",
   "id": "96d718bc",
   "metadata": {},
   "source": [
    "3. World Happiness Report 2021\n",
    "\n",
    "● What does happiness index look like across the\n",
    "world?\n",
    "\\\n",
    "● What affects happiness index? \\\n",
    "● Can you group countries based on features such\n",
    "as economic production, social support, life\n",
    "expectancy etc? \\\n",
    "● What impact did COVID-19 have on this index? \\\n",
    "\\\n",
    "More info here: https://worldhappiness.report/ed/2021/\n",
    "\n"
   ]
  },
  {
   "cell_type": "code",
   "execution_count": 65,
   "id": "c674fa78",
   "metadata": {},
   "outputs": [],
   "source": [
    "import pandas as pd\n",
    "import numpy as np\n",
    "import matplotlib.pyplot as plt\n",
    "import matplotlib.image as mpimg\n",
    "\n",
    "from ipywidgets import interact\n",
    "import ipywidgets as widgets\n",
    "\n",
    "import plotly.express as px\n",
    "\n",
    "#This is so that you don't see a bunch of code 'warnings' (things that you could change but don't have to right now)\n",
    "import warnings\n",
    "warnings.filterwarnings(\"ignore\")\n",
    "\n",
    "import seaborn as sns\n",
    "\n",
    "#This makes all of our graphs show up in our notebook when they're made\n",
    "%matplotlib inline"
   ]
  },
  {
   "cell_type": "code",
   "execution_count": 3,
   "id": "7116ba00",
   "metadata": {
    "scrolled": true
   },
   "outputs": [
    {
     "data": {
      "text/html": [
       "<div>\n",
       "<style scoped>\n",
       "    .dataframe tbody tr th:only-of-type {\n",
       "        vertical-align: middle;\n",
       "    }\n",
       "\n",
       "    .dataframe tbody tr th {\n",
       "        vertical-align: top;\n",
       "    }\n",
       "\n",
       "    .dataframe thead th {\n",
       "        text-align: right;\n",
       "    }\n",
       "</style>\n",
       "<table border=\"1\" class=\"dataframe\">\n",
       "  <thead>\n",
       "    <tr style=\"text-align: right;\">\n",
       "      <th></th>\n",
       "      <th>Country name</th>\n",
       "      <th>Regional indicator</th>\n",
       "      <th>Ladder score</th>\n",
       "      <th>Standard error of ladder score</th>\n",
       "      <th>upperwhisker</th>\n",
       "      <th>lowerwhisker</th>\n",
       "      <th>Logged GDP per capita</th>\n",
       "      <th>Social support</th>\n",
       "      <th>Healthy life expectancy</th>\n",
       "      <th>Freedom to make life choices</th>\n",
       "      <th>Generosity</th>\n",
       "      <th>Perceptions of corruption</th>\n",
       "      <th>Ladder score in Dystopia</th>\n",
       "      <th>Explained by: Log GDP per capita</th>\n",
       "      <th>Explained by: Social support</th>\n",
       "      <th>Explained by: Healthy life expectancy</th>\n",
       "      <th>Explained by: Freedom to make life choices</th>\n",
       "      <th>Explained by: Generosity</th>\n",
       "      <th>Explained by: Perceptions of corruption</th>\n",
       "      <th>Dystopia + residual</th>\n",
       "    </tr>\n",
       "  </thead>\n",
       "  <tbody>\n",
       "    <tr>\n",
       "      <th>31</th>\n",
       "      <td>Singapore</td>\n",
       "      <td>Southeast Asia</td>\n",
       "      <td>6.377</td>\n",
       "      <td>0.043</td>\n",
       "      <td>6.460</td>\n",
       "      <td>6.293</td>\n",
       "      <td>11.488</td>\n",
       "      <td>0.915</td>\n",
       "      <td>76.953</td>\n",
       "      <td>0.927</td>\n",
       "      <td>-0.018</td>\n",
       "      <td>0.082</td>\n",
       "      <td>2.43</td>\n",
       "      <td>1.695</td>\n",
       "      <td>1.019</td>\n",
       "      <td>0.897</td>\n",
       "      <td>0.664</td>\n",
       "      <td>0.176</td>\n",
       "      <td>0.547</td>\n",
       "      <td>1.379</td>\n",
       "    </tr>\n",
       "    <tr>\n",
       "      <th>135</th>\n",
       "      <td>Togo</td>\n",
       "      <td>Sub-Saharan Africa</td>\n",
       "      <td>4.107</td>\n",
       "      <td>0.077</td>\n",
       "      <td>4.258</td>\n",
       "      <td>3.956</td>\n",
       "      <td>7.362</td>\n",
       "      <td>0.569</td>\n",
       "      <td>54.914</td>\n",
       "      <td>0.619</td>\n",
       "      <td>0.032</td>\n",
       "      <td>0.772</td>\n",
       "      <td>2.43</td>\n",
       "      <td>0.254</td>\n",
       "      <td>0.239</td>\n",
       "      <td>0.203</td>\n",
       "      <td>0.289</td>\n",
       "      <td>0.209</td>\n",
       "      <td>0.107</td>\n",
       "      <td>2.806</td>\n",
       "    </tr>\n",
       "    <tr>\n",
       "      <th>78</th>\n",
       "      <td>Vietnam</td>\n",
       "      <td>Southeast Asia</td>\n",
       "      <td>5.411</td>\n",
       "      <td>0.039</td>\n",
       "      <td>5.488</td>\n",
       "      <td>5.334</td>\n",
       "      <td>8.973</td>\n",
       "      <td>0.850</td>\n",
       "      <td>68.034</td>\n",
       "      <td>0.940</td>\n",
       "      <td>-0.098</td>\n",
       "      <td>0.796</td>\n",
       "      <td>2.43</td>\n",
       "      <td>0.817</td>\n",
       "      <td>0.873</td>\n",
       "      <td>0.616</td>\n",
       "      <td>0.679</td>\n",
       "      <td>0.124</td>\n",
       "      <td>0.091</td>\n",
       "      <td>2.211</td>\n",
       "    </tr>\n",
       "    <tr>\n",
       "      <th>123</th>\n",
       "      <td>Namibia</td>\n",
       "      <td>Sub-Saharan Africa</td>\n",
       "      <td>4.574</td>\n",
       "      <td>0.064</td>\n",
       "      <td>4.700</td>\n",
       "      <td>4.448</td>\n",
       "      <td>9.161</td>\n",
       "      <td>0.818</td>\n",
       "      <td>56.799</td>\n",
       "      <td>0.719</td>\n",
       "      <td>-0.149</td>\n",
       "      <td>0.847</td>\n",
       "      <td>2.43</td>\n",
       "      <td>0.882</td>\n",
       "      <td>0.801</td>\n",
       "      <td>0.262</td>\n",
       "      <td>0.411</td>\n",
       "      <td>0.091</td>\n",
       "      <td>0.059</td>\n",
       "      <td>2.068</td>\n",
       "    </tr>\n",
       "    <tr>\n",
       "      <th>25</th>\n",
       "      <td>Saudi Arabia</td>\n",
       "      <td>Middle East and North Africa</td>\n",
       "      <td>6.494</td>\n",
       "      <td>0.056</td>\n",
       "      <td>6.604</td>\n",
       "      <td>6.384</td>\n",
       "      <td>10.743</td>\n",
       "      <td>0.891</td>\n",
       "      <td>66.603</td>\n",
       "      <td>0.877</td>\n",
       "      <td>-0.149</td>\n",
       "      <td>0.684</td>\n",
       "      <td>2.43</td>\n",
       "      <td>1.435</td>\n",
       "      <td>0.964</td>\n",
       "      <td>0.571</td>\n",
       "      <td>0.603</td>\n",
       "      <td>0.090</td>\n",
       "      <td>0.163</td>\n",
       "      <td>2.668</td>\n",
       "    </tr>\n",
       "    <tr>\n",
       "      <th>9</th>\n",
       "      <td>Austria</td>\n",
       "      <td>Western Europe</td>\n",
       "      <td>7.268</td>\n",
       "      <td>0.036</td>\n",
       "      <td>7.337</td>\n",
       "      <td>7.198</td>\n",
       "      <td>10.906</td>\n",
       "      <td>0.934</td>\n",
       "      <td>73.300</td>\n",
       "      <td>0.908</td>\n",
       "      <td>0.042</td>\n",
       "      <td>0.481</td>\n",
       "      <td>2.43</td>\n",
       "      <td>1.492</td>\n",
       "      <td>1.062</td>\n",
       "      <td>0.782</td>\n",
       "      <td>0.640</td>\n",
       "      <td>0.215</td>\n",
       "      <td>0.292</td>\n",
       "      <td>2.784</td>\n",
       "    </tr>\n",
       "    <tr>\n",
       "      <th>1</th>\n",
       "      <td>Denmark</td>\n",
       "      <td>Western Europe</td>\n",
       "      <td>7.620</td>\n",
       "      <td>0.035</td>\n",
       "      <td>7.687</td>\n",
       "      <td>7.552</td>\n",
       "      <td>10.933</td>\n",
       "      <td>0.954</td>\n",
       "      <td>72.700</td>\n",
       "      <td>0.946</td>\n",
       "      <td>0.030</td>\n",
       "      <td>0.179</td>\n",
       "      <td>2.43</td>\n",
       "      <td>1.502</td>\n",
       "      <td>1.108</td>\n",
       "      <td>0.763</td>\n",
       "      <td>0.686</td>\n",
       "      <td>0.208</td>\n",
       "      <td>0.485</td>\n",
       "      <td>2.868</td>\n",
       "    </tr>\n",
       "    <tr>\n",
       "      <th>41</th>\n",
       "      <td>Uzbekistan</td>\n",
       "      <td>Commonwealth of Independent States</td>\n",
       "      <td>6.179</td>\n",
       "      <td>0.068</td>\n",
       "      <td>6.312</td>\n",
       "      <td>6.045</td>\n",
       "      <td>8.836</td>\n",
       "      <td>0.918</td>\n",
       "      <td>65.255</td>\n",
       "      <td>0.970</td>\n",
       "      <td>0.311</td>\n",
       "      <td>0.515</td>\n",
       "      <td>2.43</td>\n",
       "      <td>0.769</td>\n",
       "      <td>1.027</td>\n",
       "      <td>0.528</td>\n",
       "      <td>0.716</td>\n",
       "      <td>0.391</td>\n",
       "      <td>0.271</td>\n",
       "      <td>2.477</td>\n",
       "    </tr>\n",
       "    <tr>\n",
       "      <th>138</th>\n",
       "      <td>India</td>\n",
       "      <td>South Asia</td>\n",
       "      <td>3.819</td>\n",
       "      <td>0.026</td>\n",
       "      <td>3.869</td>\n",
       "      <td>3.769</td>\n",
       "      <td>8.755</td>\n",
       "      <td>0.603</td>\n",
       "      <td>60.633</td>\n",
       "      <td>0.893</td>\n",
       "      <td>0.089</td>\n",
       "      <td>0.774</td>\n",
       "      <td>2.43</td>\n",
       "      <td>0.741</td>\n",
       "      <td>0.316</td>\n",
       "      <td>0.383</td>\n",
       "      <td>0.622</td>\n",
       "      <td>0.246</td>\n",
       "      <td>0.106</td>\n",
       "      <td>1.405</td>\n",
       "    </tr>\n",
       "    <tr>\n",
       "      <th>32</th>\n",
       "      <td>Kosovo</td>\n",
       "      <td>Central and Eastern Europe</td>\n",
       "      <td>6.372</td>\n",
       "      <td>0.059</td>\n",
       "      <td>6.487</td>\n",
       "      <td>6.257</td>\n",
       "      <td>9.318</td>\n",
       "      <td>0.821</td>\n",
       "      <td>63.813</td>\n",
       "      <td>0.869</td>\n",
       "      <td>0.257</td>\n",
       "      <td>0.917</td>\n",
       "      <td>2.43</td>\n",
       "      <td>0.937</td>\n",
       "      <td>0.807</td>\n",
       "      <td>0.483</td>\n",
       "      <td>0.593</td>\n",
       "      <td>0.356</td>\n",
       "      <td>0.014</td>\n",
       "      <td>3.182</td>\n",
       "    </tr>\n",
       "  </tbody>\n",
       "</table>\n",
       "</div>"
      ],
      "text/plain": [
       "     Country name                  Regional indicator  Ladder score  \\\n",
       "31      Singapore                      Southeast Asia         6.377   \n",
       "135          Togo                  Sub-Saharan Africa         4.107   \n",
       "78        Vietnam                      Southeast Asia         5.411   \n",
       "123       Namibia                  Sub-Saharan Africa         4.574   \n",
       "25   Saudi Arabia        Middle East and North Africa         6.494   \n",
       "9         Austria                      Western Europe         7.268   \n",
       "1         Denmark                      Western Europe         7.620   \n",
       "41     Uzbekistan  Commonwealth of Independent States         6.179   \n",
       "138         India                          South Asia         3.819   \n",
       "32         Kosovo          Central and Eastern Europe         6.372   \n",
       "\n",
       "     Standard error of ladder score  upperwhisker  lowerwhisker  \\\n",
       "31                            0.043         6.460         6.293   \n",
       "135                           0.077         4.258         3.956   \n",
       "78                            0.039         5.488         5.334   \n",
       "123                           0.064         4.700         4.448   \n",
       "25                            0.056         6.604         6.384   \n",
       "9                             0.036         7.337         7.198   \n",
       "1                             0.035         7.687         7.552   \n",
       "41                            0.068         6.312         6.045   \n",
       "138                           0.026         3.869         3.769   \n",
       "32                            0.059         6.487         6.257   \n",
       "\n",
       "     Logged GDP per capita  Social support  Healthy life expectancy  \\\n",
       "31                  11.488           0.915                   76.953   \n",
       "135                  7.362           0.569                   54.914   \n",
       "78                   8.973           0.850                   68.034   \n",
       "123                  9.161           0.818                   56.799   \n",
       "25                  10.743           0.891                   66.603   \n",
       "9                   10.906           0.934                   73.300   \n",
       "1                   10.933           0.954                   72.700   \n",
       "41                   8.836           0.918                   65.255   \n",
       "138                  8.755           0.603                   60.633   \n",
       "32                   9.318           0.821                   63.813   \n",
       "\n",
       "     Freedom to make life choices  Generosity  Perceptions of corruption  \\\n",
       "31                          0.927      -0.018                      0.082   \n",
       "135                         0.619       0.032                      0.772   \n",
       "78                          0.940      -0.098                      0.796   \n",
       "123                         0.719      -0.149                      0.847   \n",
       "25                          0.877      -0.149                      0.684   \n",
       "9                           0.908       0.042                      0.481   \n",
       "1                           0.946       0.030                      0.179   \n",
       "41                          0.970       0.311                      0.515   \n",
       "138                         0.893       0.089                      0.774   \n",
       "32                          0.869       0.257                      0.917   \n",
       "\n",
       "     Ladder score in Dystopia  Explained by: Log GDP per capita  \\\n",
       "31                       2.43                             1.695   \n",
       "135                      2.43                             0.254   \n",
       "78                       2.43                             0.817   \n",
       "123                      2.43                             0.882   \n",
       "25                       2.43                             1.435   \n",
       "9                        2.43                             1.492   \n",
       "1                        2.43                             1.502   \n",
       "41                       2.43                             0.769   \n",
       "138                      2.43                             0.741   \n",
       "32                       2.43                             0.937   \n",
       "\n",
       "     Explained by: Social support  Explained by: Healthy life expectancy  \\\n",
       "31                          1.019                                  0.897   \n",
       "135                         0.239                                  0.203   \n",
       "78                          0.873                                  0.616   \n",
       "123                         0.801                                  0.262   \n",
       "25                          0.964                                  0.571   \n",
       "9                           1.062                                  0.782   \n",
       "1                           1.108                                  0.763   \n",
       "41                          1.027                                  0.528   \n",
       "138                         0.316                                  0.383   \n",
       "32                          0.807                                  0.483   \n",
       "\n",
       "     Explained by: Freedom to make life choices  Explained by: Generosity  \\\n",
       "31                                        0.664                     0.176   \n",
       "135                                       0.289                     0.209   \n",
       "78                                        0.679                     0.124   \n",
       "123                                       0.411                     0.091   \n",
       "25                                        0.603                     0.090   \n",
       "9                                         0.640                     0.215   \n",
       "1                                         0.686                     0.208   \n",
       "41                                        0.716                     0.391   \n",
       "138                                       0.622                     0.246   \n",
       "32                                        0.593                     0.356   \n",
       "\n",
       "     Explained by: Perceptions of corruption  Dystopia + residual  \n",
       "31                                     0.547                1.379  \n",
       "135                                    0.107                2.806  \n",
       "78                                     0.091                2.211  \n",
       "123                                    0.059                2.068  \n",
       "25                                     0.163                2.668  \n",
       "9                                      0.292                2.784  \n",
       "1                                      0.485                2.868  \n",
       "41                                     0.271                2.477  \n",
       "138                                    0.106                1.405  \n",
       "32                                     0.014                3.182  "
      ]
     },
     "execution_count": 3,
     "metadata": {},
     "output_type": "execute_result"
    }
   ],
   "source": [
    "wh2021 = pd.read_csv('data/world-happiness-report-2021.csv')\n",
    "wh2021.sample(10)\n"
   ]
  },
  {
   "cell_type": "code",
   "execution_count": 4,
   "id": "c69347db",
   "metadata": {
    "scrolled": false
   },
   "outputs": [
    {
     "data": {
      "text/html": [
       "<div>\n",
       "<style scoped>\n",
       "    .dataframe tbody tr th:only-of-type {\n",
       "        vertical-align: middle;\n",
       "    }\n",
       "\n",
       "    .dataframe tbody tr th {\n",
       "        vertical-align: top;\n",
       "    }\n",
       "\n",
       "    .dataframe thead th {\n",
       "        text-align: right;\n",
       "    }\n",
       "</style>\n",
       "<table border=\"1\" class=\"dataframe\">\n",
       "  <thead>\n",
       "    <tr style=\"text-align: right;\">\n",
       "      <th></th>\n",
       "      <th>Country name</th>\n",
       "      <th>year</th>\n",
       "      <th>Life Ladder</th>\n",
       "      <th>Log GDP per capita</th>\n",
       "      <th>Social support</th>\n",
       "      <th>Healthy life expectancy at birth</th>\n",
       "      <th>Freedom to make life choices</th>\n",
       "      <th>Generosity</th>\n",
       "      <th>Perceptions of corruption</th>\n",
       "      <th>Positive affect</th>\n",
       "      <th>Negative affect</th>\n",
       "    </tr>\n",
       "  </thead>\n",
       "  <tbody>\n",
       "    <tr>\n",
       "      <th>806</th>\n",
       "      <td>Israel</td>\n",
       "      <td>2012</td>\n",
       "      <td>7.111</td>\n",
       "      <td>10.493</td>\n",
       "      <td>0.903</td>\n",
       "      <td>72.52</td>\n",
       "      <td>0.681</td>\n",
       "      <td>0.153</td>\n",
       "      <td>0.862</td>\n",
       "      <td>0.665</td>\n",
       "      <td>0.319</td>\n",
       "    </tr>\n",
       "    <tr>\n",
       "      <th>978</th>\n",
       "      <td>Lebanon</td>\n",
       "      <td>2016</td>\n",
       "      <td>5.271</td>\n",
       "      <td>9.687</td>\n",
       "      <td>0.828</td>\n",
       "      <td>66.10</td>\n",
       "      <td>0.657</td>\n",
       "      <td>0.031</td>\n",
       "      <td>0.853</td>\n",
       "      <td>0.553</td>\n",
       "      <td>0.263</td>\n",
       "    </tr>\n",
       "    <tr>\n",
       "      <th>697</th>\n",
       "      <td>Honduras</td>\n",
       "      <td>2018</td>\n",
       "      <td>5.908</td>\n",
       "      <td>8.643</td>\n",
       "      <td>0.827</td>\n",
       "      <td>67.20</td>\n",
       "      <td>0.872</td>\n",
       "      <td>0.099</td>\n",
       "      <td>0.804</td>\n",
       "      <td>0.872</td>\n",
       "      <td>0.287</td>\n",
       "    </tr>\n",
       "    <tr>\n",
       "      <th>495</th>\n",
       "      <td>Ecuador</td>\n",
       "      <td>2018</td>\n",
       "      <td>6.128</td>\n",
       "      <td>9.355</td>\n",
       "      <td>0.851</td>\n",
       "      <td>68.50</td>\n",
       "      <td>0.869</td>\n",
       "      <td>-0.099</td>\n",
       "      <td>0.831</td>\n",
       "      <td>0.876</td>\n",
       "      <td>0.328</td>\n",
       "    </tr>\n",
       "    <tr>\n",
       "      <th>955</th>\n",
       "      <td>Latvia</td>\n",
       "      <td>2007</td>\n",
       "      <td>4.667</td>\n",
       "      <td>10.136</td>\n",
       "      <td>0.836</td>\n",
       "      <td>63.52</td>\n",
       "      <td>0.700</td>\n",
       "      <td>-0.167</td>\n",
       "      <td>0.924</td>\n",
       "      <td>0.673</td>\n",
       "      <td>0.247</td>\n",
       "    </tr>\n",
       "    <tr>\n",
       "      <th>1331</th>\n",
       "      <td>Palestinian Territories</td>\n",
       "      <td>2012</td>\n",
       "      <td>4.647</td>\n",
       "      <td>8.531</td>\n",
       "      <td>0.782</td>\n",
       "      <td>NaN</td>\n",
       "      <td>0.542</td>\n",
       "      <td>-0.153</td>\n",
       "      <td>0.730</td>\n",
       "      <td>0.616</td>\n",
       "      <td>0.379</td>\n",
       "    </tr>\n",
       "    <tr>\n",
       "      <th>1127</th>\n",
       "      <td>Moldova</td>\n",
       "      <td>2010</td>\n",
       "      <td>5.590</td>\n",
       "      <td>9.054</td>\n",
       "      <td>0.847</td>\n",
       "      <td>61.30</td>\n",
       "      <td>0.598</td>\n",
       "      <td>-0.088</td>\n",
       "      <td>0.929</td>\n",
       "      <td>0.584</td>\n",
       "      <td>0.278</td>\n",
       "    </tr>\n",
       "    <tr>\n",
       "      <th>1319</th>\n",
       "      <td>Pakistan</td>\n",
       "      <td>2014</td>\n",
       "      <td>5.436</td>\n",
       "      <td>8.336</td>\n",
       "      <td>0.552</td>\n",
       "      <td>57.08</td>\n",
       "      <td>0.543</td>\n",
       "      <td>0.140</td>\n",
       "      <td>0.677</td>\n",
       "      <td>0.585</td>\n",
       "      <td>0.295</td>\n",
       "    </tr>\n",
       "    <tr>\n",
       "      <th>344</th>\n",
       "      <td>China</td>\n",
       "      <td>2008</td>\n",
       "      <td>4.846</td>\n",
       "      <td>8.911</td>\n",
       "      <td>0.748</td>\n",
       "      <td>67.24</td>\n",
       "      <td>0.853</td>\n",
       "      <td>-0.092</td>\n",
       "      <td>NaN</td>\n",
       "      <td>0.817</td>\n",
       "      <td>0.147</td>\n",
       "    </tr>\n",
       "    <tr>\n",
       "      <th>102</th>\n",
       "      <td>Azerbaijan</td>\n",
       "      <td>2015</td>\n",
       "      <td>5.147</td>\n",
       "      <td>9.606</td>\n",
       "      <td>0.786</td>\n",
       "      <td>64.60</td>\n",
       "      <td>0.764</td>\n",
       "      <td>-0.198</td>\n",
       "      <td>0.616</td>\n",
       "      <td>0.607</td>\n",
       "      <td>0.206</td>\n",
       "    </tr>\n",
       "  </tbody>\n",
       "</table>\n",
       "</div>"
      ],
      "text/plain": [
       "                 Country name  year  Life Ladder  Log GDP per capita  \\\n",
       "806                    Israel  2012        7.111              10.493   \n",
       "978                   Lebanon  2016        5.271               9.687   \n",
       "697                  Honduras  2018        5.908               8.643   \n",
       "495                   Ecuador  2018        6.128               9.355   \n",
       "955                    Latvia  2007        4.667              10.136   \n",
       "1331  Palestinian Territories  2012        4.647               8.531   \n",
       "1127                  Moldova  2010        5.590               9.054   \n",
       "1319                 Pakistan  2014        5.436               8.336   \n",
       "344                     China  2008        4.846               8.911   \n",
       "102                Azerbaijan  2015        5.147               9.606   \n",
       "\n",
       "      Social support  Healthy life expectancy at birth  \\\n",
       "806            0.903                             72.52   \n",
       "978            0.828                             66.10   \n",
       "697            0.827                             67.20   \n",
       "495            0.851                             68.50   \n",
       "955            0.836                             63.52   \n",
       "1331           0.782                               NaN   \n",
       "1127           0.847                             61.30   \n",
       "1319           0.552                             57.08   \n",
       "344            0.748                             67.24   \n",
       "102            0.786                             64.60   \n",
       "\n",
       "      Freedom to make life choices  Generosity  Perceptions of corruption  \\\n",
       "806                          0.681       0.153                      0.862   \n",
       "978                          0.657       0.031                      0.853   \n",
       "697                          0.872       0.099                      0.804   \n",
       "495                          0.869      -0.099                      0.831   \n",
       "955                          0.700      -0.167                      0.924   \n",
       "1331                         0.542      -0.153                      0.730   \n",
       "1127                         0.598      -0.088                      0.929   \n",
       "1319                         0.543       0.140                      0.677   \n",
       "344                          0.853      -0.092                        NaN   \n",
       "102                          0.764      -0.198                      0.616   \n",
       "\n",
       "      Positive affect  Negative affect  \n",
       "806             0.665            0.319  \n",
       "978             0.553            0.263  \n",
       "697             0.872            0.287  \n",
       "495             0.876            0.328  \n",
       "955             0.673            0.247  \n",
       "1331            0.616            0.379  \n",
       "1127            0.584            0.278  \n",
       "1319            0.585            0.295  \n",
       "344             0.817            0.147  \n",
       "102             0.607            0.206  "
      ]
     },
     "execution_count": 4,
     "metadata": {},
     "output_type": "execute_result"
    }
   ],
   "source": [
    "wh = pd.read_csv('data/world-happiness-report.csv')\n",
    "wh.sample(10)"
   ]
  },
  {
   "cell_type": "code",
   "execution_count": 5,
   "id": "fe97b205",
   "metadata": {},
   "outputs": [
    {
     "data": {
      "image/png": "[encoded data removed]",
      "text/plain": [
       "<Figure size 432x432 with 1 Axes>"
      ]
     },
     "metadata": {
      "needs_background": "light"
     },
     "output_type": "display_data"
    }
   ],
   "source": [
    "happy_by_country = sns.catplot(\n",
    "    data=wh2021,\n",
    "    y='Regional indicator', x=\"Ladder score\",\n",
    "    ci=None, orient='h', height=6\n",
    ")"
   ]
  },
  {
   "cell_type": "code",
   "execution_count": 6,
   "id": "a40ecf54",
   "metadata": {},
   "outputs": [],
   "source": [
    "#Jackson's Section Start"
   ]
  },
  {
   "cell_type": "code",
   "execution_count": 7,
   "id": "21e5b252",
   "metadata": {},
   "outputs": [],
   "source": [
    "wh2021_j = wh2021.drop(columns=['Regional indicator', 'Standard error of ladder score', 'upperwhisker', 'lowerwhisker', 'Ladder score in Dystopia', 'Explained by: Log GDP per capita', 'Explained by: Social support', 'Explained by: Healthy life expectancy', 'Explained by: Freedom to make life choices', 'Explained by: Generosity', 'Explained by: Perceptions of corruption', 'Dystopia + residual'])\n",
    "wh2021_j['year'] = 2021\n",
    "wh2021_j = wh2021_j[wh2021_j['Country name'].isin(wh[wh['year']==2020]['Country name'].unique())]\n",
    "wh2021_j = wh2021_j.rename(columns={'Ladder score': 'Life Ladder', 'Logged GDP per capita': 'Log GDP per capita', 'Healthy life expectancy': 'Healthy life expectancy at birth'})\n",
    "wh_j = wh.drop(columns=['Positive affect', 'Negative affect'])\n",
    "wh_j = wh_j[wh_j['Country name'].isin(wh2021_j['Country name'].unique())]\n",
    "wh_j=wh_j.append(wh2021_j) #Add a 2021 statistic for all the countries to help get data on pre-rona v post-rona"
   ]
  },
  {
   "cell_type": "code",
   "execution_count": 8,
   "id": "dc325559",
   "metadata": {
    "scrolled": true
   },
   "outputs": [
    {
     "data": {
      "text/html": [
       "<div>\n",
       "<style scoped>\n",
       "    .dataframe tbody tr th:only-of-type {\n",
       "        vertical-align: middle;\n",
       "    }\n",
       "\n",
       "    .dataframe tbody tr th {\n",
       "        vertical-align: top;\n",
       "    }\n",
       "\n",
       "    .dataframe thead th {\n",
       "        text-align: right;\n",
       "    }\n",
       "</style>\n",
       "<table border=\"1\" class=\"dataframe\">\n",
       "  <thead>\n",
       "    <tr style=\"text-align: right;\">\n",
       "      <th></th>\n",
       "      <th>Country name</th>\n",
       "      <th>year</th>\n",
       "      <th>Life Ladder</th>\n",
       "      <th>Log GDP per capita</th>\n",
       "      <th>Social support</th>\n",
       "      <th>Healthy life expectancy at birth</th>\n",
       "      <th>Freedom to make life choices</th>\n",
       "      <th>Generosity</th>\n",
       "      <th>Perceptions of corruption</th>\n",
       "    </tr>\n",
       "  </thead>\n",
       "  <tbody>\n",
       "    <tr>\n",
       "      <th>1836</th>\n",
       "      <td>United States</td>\n",
       "      <td>2006</td>\n",
       "      <td>7.182</td>\n",
       "      <td>10.924</td>\n",
       "      <td>0.965</td>\n",
       "      <td>68.06</td>\n",
       "      <td>0.911</td>\n",
       "      <td>NaN</td>\n",
       "      <td>0.600</td>\n",
       "    </tr>\n",
       "    <tr>\n",
       "      <th>1837</th>\n",
       "      <td>United States</td>\n",
       "      <td>2007</td>\n",
       "      <td>7.513</td>\n",
       "      <td>10.933</td>\n",
       "      <td>NaN</td>\n",
       "      <td>68.22</td>\n",
       "      <td>0.872</td>\n",
       "      <td>0.197</td>\n",
       "      <td>0.633</td>\n",
       "    </tr>\n",
       "    <tr>\n",
       "      <th>1838</th>\n",
       "      <td>United States</td>\n",
       "      <td>2008</td>\n",
       "      <td>7.280</td>\n",
       "      <td>10.922</td>\n",
       "      <td>0.953</td>\n",
       "      <td>68.38</td>\n",
       "      <td>0.878</td>\n",
       "      <td>0.255</td>\n",
       "      <td>0.668</td>\n",
       "    </tr>\n",
       "    <tr>\n",
       "      <th>1839</th>\n",
       "      <td>United States</td>\n",
       "      <td>2009</td>\n",
       "      <td>7.158</td>\n",
       "      <td>10.888</td>\n",
       "      <td>0.912</td>\n",
       "      <td>68.54</td>\n",
       "      <td>0.831</td>\n",
       "      <td>0.201</td>\n",
       "      <td>0.665</td>\n",
       "    </tr>\n",
       "    <tr>\n",
       "      <th>1840</th>\n",
       "      <td>United States</td>\n",
       "      <td>2010</td>\n",
       "      <td>7.164</td>\n",
       "      <td>10.905</td>\n",
       "      <td>0.926</td>\n",
       "      <td>68.70</td>\n",
       "      <td>0.828</td>\n",
       "      <td>0.244</td>\n",
       "      <td>0.690</td>\n",
       "    </tr>\n",
       "    <tr>\n",
       "      <th>1841</th>\n",
       "      <td>United States</td>\n",
       "      <td>2011</td>\n",
       "      <td>7.115</td>\n",
       "      <td>10.913</td>\n",
       "      <td>0.922</td>\n",
       "      <td>68.68</td>\n",
       "      <td>0.863</td>\n",
       "      <td>0.161</td>\n",
       "      <td>0.697</td>\n",
       "    </tr>\n",
       "    <tr>\n",
       "      <th>1842</th>\n",
       "      <td>United States</td>\n",
       "      <td>2012</td>\n",
       "      <td>7.026</td>\n",
       "      <td>10.928</td>\n",
       "      <td>0.903</td>\n",
       "      <td>68.66</td>\n",
       "      <td>0.823</td>\n",
       "      <td>0.215</td>\n",
       "      <td>0.710</td>\n",
       "    </tr>\n",
       "    <tr>\n",
       "      <th>1843</th>\n",
       "      <td>United States</td>\n",
       "      <td>2013</td>\n",
       "      <td>7.249</td>\n",
       "      <td>10.939</td>\n",
       "      <td>0.925</td>\n",
       "      <td>68.64</td>\n",
       "      <td>0.792</td>\n",
       "      <td>0.274</td>\n",
       "      <td>0.747</td>\n",
       "    </tr>\n",
       "    <tr>\n",
       "      <th>1844</th>\n",
       "      <td>United States</td>\n",
       "      <td>2014</td>\n",
       "      <td>7.151</td>\n",
       "      <td>10.956</td>\n",
       "      <td>0.902</td>\n",
       "      <td>68.62</td>\n",
       "      <td>0.866</td>\n",
       "      <td>0.221</td>\n",
       "      <td>0.702</td>\n",
       "    </tr>\n",
       "    <tr>\n",
       "      <th>1845</th>\n",
       "      <td>United States</td>\n",
       "      <td>2015</td>\n",
       "      <td>6.864</td>\n",
       "      <td>10.977</td>\n",
       "      <td>0.904</td>\n",
       "      <td>68.60</td>\n",
       "      <td>0.849</td>\n",
       "      <td>0.219</td>\n",
       "      <td>0.698</td>\n",
       "    </tr>\n",
       "    <tr>\n",
       "      <th>1846</th>\n",
       "      <td>United States</td>\n",
       "      <td>2016</td>\n",
       "      <td>6.804</td>\n",
       "      <td>10.986</td>\n",
       "      <td>0.897</td>\n",
       "      <td>68.50</td>\n",
       "      <td>0.758</td>\n",
       "      <td>0.144</td>\n",
       "      <td>0.739</td>\n",
       "    </tr>\n",
       "    <tr>\n",
       "      <th>1847</th>\n",
       "      <td>United States</td>\n",
       "      <td>2017</td>\n",
       "      <td>6.992</td>\n",
       "      <td>11.001</td>\n",
       "      <td>0.921</td>\n",
       "      <td>68.40</td>\n",
       "      <td>0.868</td>\n",
       "      <td>0.197</td>\n",
       "      <td>0.681</td>\n",
       "    </tr>\n",
       "    <tr>\n",
       "      <th>1848</th>\n",
       "      <td>United States</td>\n",
       "      <td>2018</td>\n",
       "      <td>6.883</td>\n",
       "      <td>11.025</td>\n",
       "      <td>0.904</td>\n",
       "      <td>68.30</td>\n",
       "      <td>0.825</td>\n",
       "      <td>0.116</td>\n",
       "      <td>0.710</td>\n",
       "    </tr>\n",
       "    <tr>\n",
       "      <th>1849</th>\n",
       "      <td>United States</td>\n",
       "      <td>2019</td>\n",
       "      <td>6.944</td>\n",
       "      <td>11.043</td>\n",
       "      <td>0.917</td>\n",
       "      <td>68.20</td>\n",
       "      <td>0.836</td>\n",
       "      <td>0.144</td>\n",
       "      <td>0.707</td>\n",
       "    </tr>\n",
       "    <tr>\n",
       "      <th>1850</th>\n",
       "      <td>United States</td>\n",
       "      <td>2020</td>\n",
       "      <td>7.028</td>\n",
       "      <td>11.001</td>\n",
       "      <td>0.937</td>\n",
       "      <td>68.10</td>\n",
       "      <td>0.850</td>\n",
       "      <td>0.034</td>\n",
       "      <td>0.678</td>\n",
       "    </tr>\n",
       "    <tr>\n",
       "      <th>18</th>\n",
       "      <td>United States</td>\n",
       "      <td>2021</td>\n",
       "      <td>6.951</td>\n",
       "      <td>11.023</td>\n",
       "      <td>0.920</td>\n",
       "      <td>68.20</td>\n",
       "      <td>0.837</td>\n",
       "      <td>0.098</td>\n",
       "      <td>0.698</td>\n",
       "    </tr>\n",
       "  </tbody>\n",
       "</table>\n",
       "</div>"
      ],
      "text/plain": [
       "       Country name  year  Life Ladder  Log GDP per capita  Social support  \\\n",
       "1836  United States  2006        7.182              10.924           0.965   \n",
       "1837  United States  2007        7.513              10.933             NaN   \n",
       "1838  United States  2008        7.280              10.922           0.953   \n",
       "1839  United States  2009        7.158              10.888           0.912   \n",
       "1840  United States  2010        7.164              10.905           0.926   \n",
       "1841  United States  2011        7.115              10.913           0.922   \n",
       "1842  United States  2012        7.026              10.928           0.903   \n",
       "1843  United States  2013        7.249              10.939           0.925   \n",
       "1844  United States  2014        7.151              10.956           0.902   \n",
       "1845  United States  2015        6.864              10.977           0.904   \n",
       "1846  United States  2016        6.804              10.986           0.897   \n",
       "1847  United States  2017        6.992              11.001           0.921   \n",
       "1848  United States  2018        6.883              11.025           0.904   \n",
       "1849  United States  2019        6.944              11.043           0.917   \n",
       "1850  United States  2020        7.028              11.001           0.937   \n",
       "18    United States  2021        6.951              11.023           0.920   \n",
       "\n",
       "      Healthy life expectancy at birth  Freedom to make life choices  \\\n",
       "1836                             68.06                         0.911   \n",
       "1837                             68.22                         0.872   \n",
       "1838                             68.38                         0.878   \n",
       "1839                             68.54                         0.831   \n",
       "1840                             68.70                         0.828   \n",
       "1841                             68.68                         0.863   \n",
       "1842                             68.66                         0.823   \n",
       "1843                             68.64                         0.792   \n",
       "1844                             68.62                         0.866   \n",
       "1845                             68.60                         0.849   \n",
       "1846                             68.50                         0.758   \n",
       "1847                             68.40                         0.868   \n",
       "1848                             68.30                         0.825   \n",
       "1849                             68.20                         0.836   \n",
       "1850                             68.10                         0.850   \n",
       "18                               68.20                         0.837   \n",
       "\n",
       "      Generosity  Perceptions of corruption  \n",
       "1836         NaN                      0.600  \n",
       "1837       0.197                      0.633  \n",
       "1838       0.255                      0.668  \n",
       "1839       0.201                      0.665  \n",
       "1840       0.244                      0.690  \n",
       "1841       0.161                      0.697  \n",
       "1842       0.215                      0.710  \n",
       "1843       0.274                      0.747  \n",
       "1844       0.221                      0.702  \n",
       "1845       0.219                      0.698  \n",
       "1846       0.144                      0.739  \n",
       "1847       0.197                      0.681  \n",
       "1848       0.116                      0.710  \n",
       "1849       0.144                      0.707  \n",
       "1850       0.034                      0.678  \n",
       "18         0.098                      0.698  "
      ]
     },
     "execution_count": 8,
     "metadata": {},
     "output_type": "execute_result"
    }
   ],
   "source": [
    "wh_j[wh_j['Country name'] == 'United States']"
   ]
  },
  {
   "cell_type": "code",
   "execution_count": 21,
   "id": "59c0e1e0",
   "metadata": {},
   "outputs": [
    {
     "data": {
      "application/vnd.jupyter.widget-view+json": {
       "model_id": "dc99cb4cad154beda0955538e7f3afb0",
       "version_major": 2,
       "version_minor": 0
      },
      "text/plain": [
       "interactive(children=(Text(value='United States', description='country'), Output()), _dom_classes=('widget-int…"
      ]
     },
     "metadata": {},
     "output_type": "display_data"
    }
   ],
   "source": [
    "def countrySelector(country):\n",
    "    return sns.scatterplot(data=wh_j[wh_j['Country name'] == country], x='year', y='Life Ladder')\n",
    "\n",
    "interact(countrySelector, country='United States'); #widget to see various countries Ladder score's over years"
   ]
  },
  {
   "cell_type": "code",
   "execution_count": 78,
   "id": "8a56ee3f",
   "metadata": {},
   "outputs": [
    {
     "name": "stdout",
     "output_type": "stream",
     "text": [
      "On average, the world's happiness changed by -0.001473684210526275 Life Ladder score after the pandemic started\n"
     ]
    },
    {
     "data": {
      "text/html": [
       "<div>\n",
       "<style scoped>\n",
       "    .dataframe tbody tr th:only-of-type {\n",
       "        vertical-align: middle;\n",
       "    }\n",
       "\n",
       "    .dataframe tbody tr th {\n",
       "        vertical-align: top;\n",
       "    }\n",
       "\n",
       "    .dataframe thead th {\n",
       "        text-align: right;\n",
       "    }\n",
       "</style>\n",
       "<table border=\"1\" class=\"dataframe\">\n",
       "  <thead>\n",
       "    <tr style=\"text-align: right;\">\n",
       "      <th></th>\n",
       "      <th>Country name</th>\n",
       "      <th>rona_diff</th>\n",
       "    </tr>\n",
       "  </thead>\n",
       "  <tbody>\n",
       "    <tr>\n",
       "      <th>1933</th>\n",
       "      <td>Zambia</td>\n",
       "      <td>-0.765</td>\n",
       "    </tr>\n",
       "    <tr>\n",
       "      <th>1279</th>\n",
       "      <td>Nigeria</td>\n",
       "      <td>-0.744</td>\n",
       "    </tr>\n",
       "    <tr>\n",
       "      <th>422</th>\n",
       "      <td>Croatia</td>\n",
       "      <td>-0.626</td>\n",
       "    </tr>\n",
       "    <tr>\n",
       "      <th>944</th>\n",
       "      <td>Kyrgyzstan</td>\n",
       "      <td>-0.506</td>\n",
       "    </tr>\n",
       "    <tr>\n",
       "      <th>356</th>\n",
       "      <td>China</td>\n",
       "      <td>-0.432</td>\n",
       "    </tr>\n",
       "    <tr>\n",
       "      <th>746</th>\n",
       "      <td>India</td>\n",
       "      <td>-0.406</td>\n",
       "    </tr>\n",
       "    <tr>\n",
       "      <th>1807</th>\n",
       "      <td>Ukraine</td>\n",
       "      <td>-0.395</td>\n",
       "    </tr>\n",
       "    <tr>\n",
       "      <th>1150</th>\n",
       "      <td>Mongolia</td>\n",
       "      <td>-0.334</td>\n",
       "    </tr>\n",
       "    <tr>\n",
       "      <th>244</th>\n",
       "      <td>Bulgaria</td>\n",
       "      <td>-0.332</td>\n",
       "    </tr>\n",
       "    <tr>\n",
       "      <th>550</th>\n",
       "      <td>Ethiopia</td>\n",
       "      <td>-0.274</td>\n",
       "    </tr>\n",
       "  </tbody>\n",
       "</table>\n",
       "</div>"
      ],
      "text/plain": [
       "     Country name  rona_diff\n",
       "1933       Zambia     -0.765\n",
       "1279      Nigeria     -0.744\n",
       "422       Croatia     -0.626\n",
       "944    Kyrgyzstan     -0.506\n",
       "356         China     -0.432\n",
       "746         India     -0.406\n",
       "1807      Ukraine     -0.395\n",
       "1150     Mongolia     -0.334\n",
       "244      Bulgaria     -0.332\n",
       "550      Ethiopia     -0.274"
      ]
     },
     "execution_count": 78,
     "metadata": {},
     "output_type": "execute_result"
    }
   ],
   "source": [
    "wh_j_sorted=wh_j.sort_values(by='Country name')\n",
    "rona_diff = []\n",
    "summ = 0\n",
    "for i in range(len(list(wh_j_sorted[wh_j_sorted['year']==2020]['Life Ladder']))):\n",
    "        rona_diff.append((list(wh_j_sorted[wh_j_sorted['year']==2020]['Life Ladder'])[i] - list(wh_j_sorted[wh_j_sorted['year']==2021]['Life Ladder'])[i]) * -1)\n",
    "        summ+= rona_diff[i]\n",
    "average_rona_diff = summ/len(wh_j_sorted[wh_j_sorted['year']==2020])\n",
    "print('On average, the world\\'s happiness changed by', average_rona_diff, 'Life Ladder score after the pandemic started')\n",
    "differ = pd.DataFrame()\n",
    "differ['Country name'] = wh_j_sorted[wh_j_sorted['year']==2020]['Country name']\n",
    "differ['rona_diff'] = rona_diff\n",
    "differ.reset_index(drop=True)\n",
    "differ.sort_values(by='rona_diff').head(10) #countries made most unhappy by rona age"
   ]
  },
  {
   "cell_type": "code",
   "execution_count": 79,
   "id": "2fb3c09a",
   "metadata": {},
   "outputs": [
    {
     "data": {
      "text/html": [
       "<div>\n",
       "<style scoped>\n",
       "    .dataframe tbody tr th:only-of-type {\n",
       "        vertical-align: middle;\n",
       "    }\n",
       "\n",
       "    .dataframe tbody tr th {\n",
       "        vertical-align: top;\n",
       "    }\n",
       "\n",
       "    .dataframe thead th {\n",
       "        text-align: right;\n",
       "    }\n",
       "</style>\n",
       "<table border=\"1\" class=\"dataframe\">\n",
       "  <thead>\n",
       "    <tr style=\"text-align: right;\">\n",
       "      <th></th>\n",
       "      <th>Country name</th>\n",
       "      <th>rona_diff</th>\n",
       "    </tr>\n",
       "  </thead>\n",
       "  <tbody>\n",
       "    <tr>\n",
       "      <th>1394</th>\n",
       "      <td>Philippines</td>\n",
       "      <td>0.800</td>\n",
       "    </tr>\n",
       "    <tr>\n",
       "      <th>174</th>\n",
       "      <td>Benin</td>\n",
       "      <td>0.637</td>\n",
       "    </tr>\n",
       "    <tr>\n",
       "      <th>527</th>\n",
       "      <td>El Salvador</td>\n",
       "      <td>0.599</td>\n",
       "    </tr>\n",
       "    <tr>\n",
       "      <th>117</th>\n",
       "      <td>Bahrain</td>\n",
       "      <td>0.474</td>\n",
       "    </tr>\n",
       "    <tr>\n",
       "      <th>277</th>\n",
       "      <td>Cambodia</td>\n",
       "      <td>0.453</td>\n",
       "    </tr>\n",
       "    <tr>\n",
       "      <th>1087</th>\n",
       "      <td>Malta</td>\n",
       "      <td>0.445</td>\n",
       "    </tr>\n",
       "    <tr>\n",
       "      <th>497</th>\n",
       "      <td>Ecuador</td>\n",
       "      <td>0.410</td>\n",
       "    </tr>\n",
       "    <tr>\n",
       "      <th>482</th>\n",
       "      <td>Dominican Republic</td>\n",
       "      <td>0.377</td>\n",
       "    </tr>\n",
       "    <tr>\n",
       "      <th>1122</th>\n",
       "      <td>Mexico</td>\n",
       "      <td>0.353</td>\n",
       "    </tr>\n",
       "    <tr>\n",
       "      <th>1893</th>\n",
       "      <td>Venezuela</td>\n",
       "      <td>0.318</td>\n",
       "    </tr>\n",
       "  </tbody>\n",
       "</table>\n",
       "</div>"
      ],
      "text/plain": [
       "            Country name  rona_diff\n",
       "1394         Philippines      0.800\n",
       "174                Benin      0.637\n",
       "527          El Salvador      0.599\n",
       "117              Bahrain      0.474\n",
       "277             Cambodia      0.453\n",
       "1087               Malta      0.445\n",
       "497              Ecuador      0.410\n",
       "482   Dominican Republic      0.377\n",
       "1122              Mexico      0.353\n",
       "1893           Venezuela      0.318"
      ]
     },
     "execution_count": 79,
     "metadata": {},
     "output_type": "execute_result"
    }
   ],
   "source": [
    "differ.sort_values(by='rona_diff', ascending=False).head(10) #countries that gained happiness from rona era"
   ]
  },
  {
   "cell_type": "code",
   "execution_count": 80,
   "id": "1e068eb3",
   "metadata": {},
   "outputs": [],
   "source": [
    "#can these be explained by the coronavirus impact in these countries\n",
    "le_rona = pd.read_csv('data/owid-covid-data.csv')\n",
    "le_rona = le_rona[le_rona['continent'].notna()]\n",
    "le_rona = le_rona[le_rona['date']=='7/12/2021'][['location', 'total_cases', 'total_deaths']]\n",
    "le_rona = le_rona.reset_index(drop=True)\n",
    "le_rona['deaths per case'] = le_rona['total_deaths'] / le_rona['total_cases']\n",
    "le_rona = le_rona[le_rona['location'].isin(differ['Country name'])]\n",
    "le_rona = le_rona.rename(columns={'location': 'Country name'})\n",
    "rona_differ = pd.merge(differ, le_rona, on='Country name')"
   ]
  },
  {
   "cell_type": "code",
   "execution_count": 81,
   "id": "83c36fb5",
   "metadata": {
    "scrolled": true
   },
   "outputs": [
    {
     "data": {
      "application/vnd.plotly.v1+json": {
       "config": {
        "plotlyServerURL": "https://plot.ly"
       },
       "data": [
        {
         "hovertemplate": "<b>%{hovertext}</b><br><br>Deaths per Case=%{x}<br>Happiness Decrease After Pandemic=%{y}<br>Total Deaths=%{marker.color}<extra></extra>",
         "hovertext": [
          "Albania",
          "Argentina",
          "Australia",
          "Austria",
          "Bahrain",
          "Bangladesh",
          "Belgium",
          "Benin",
          "Bolivia",
          "Bosnia and Herzegovina",
          "Brazil",
          "Bulgaria",
          "Cambodia",
          "Cameroon",
          "Canada",
          "Chile",
          "China",
          "Colombia",
          "Croatia",
          "Cyprus",
          "Denmark",
          "Dominican Republic",
          "Ecuador",
          "Egypt",
          "El Salvador",
          "Estonia",
          "Ethiopia",
          "Finland",
          "France",
          "Georgia",
          "Germany",
          "Ghana",
          "Greece",
          "Hungary",
          "Iceland",
          "India",
          "Iran",
          "Iraq",
          "Ireland",
          "Israel",
          "Italy",
          "Japan",
          "Jordan",
          "Kazakhstan",
          "Kenya",
          "Kosovo",
          "Kyrgyzstan",
          "Laos",
          "Latvia",
          "Lithuania",
          "Malta",
          "Mauritius",
          "Mexico",
          "Moldova",
          "Mongolia",
          "Montenegro",
          "Morocco",
          "Myanmar",
          "Namibia",
          "Netherlands",
          "New Zealand",
          "Nigeria",
          "North Macedonia",
          "Norway",
          "Philippines",
          "Poland",
          "Portugal",
          "Russia",
          "Saudi Arabia",
          "Serbia",
          "Slovakia",
          "Slovenia",
          "South Africa",
          "South Korea",
          "Spain",
          "Sweden",
          "Switzerland",
          "Tajikistan",
          "Tanzania",
          "Thailand",
          "Tunisia",
          "Turkey",
          "Uganda",
          "Ukraine",
          "United Arab Emirates",
          "United Kingdom",
          "United States",
          "Uruguay",
          "Venezuela",
          "Zambia",
          "Zimbabwe"
         ],
         "legendgroup": "",
         "marker": {
          "color": [
           2456,
           99255,
           912,
           10723,
           1378,
           16639,
           25205,
           105,
           17250,
           9662,
           534233,
           18144,
           925,
           1324,
           26405,
           33980,
           4636,
           113335,
           8229,
           380,
           2540,
           3893,
           21830,
           16403,
           2451,
           1270,
           4343,
           976,
           111543,
           5468,
           91268,
           801,
           12778,
           30007,
           29,
           408764,
           86041,
           17592,
           5006,
           6438,
           127788,
           14905,
           9843,
           3578,
           3723,
           2268,
           2113,
           3,
           2536,
           4400,
           420,
           18,
           235058,
           6211,
           699,
           1621,
           9384,
           3927,
           2019,
           18050,
           26,
           2124,
           5487,
           796,
           26015,
           75160,
           17164,
           141335,
           7976,
           7073,
           12521,
           4425,
           64509,
           2046,
           81020,
           14643,
           10900,
           104,
           21,
           2791,
           16494,
           50096,
           2129,
           54981,
           1870,
           128697,
           607392,
           5833,
           3302,
           2867,
           2236
          ],
          "coloraxis": "coloraxis",
          "opacity": 1,
          "symbol": "circle"
         },
         "mode": "markers",
         "name": "",
         "orientation": "v",
         "showlegend": false,
         "type": "scatter",
         "x": [
          0.018522289342896143,
          0.02128594059924035,
          0.029115985058902404,
          0.016451264490552373,
          0.005154793434184735,
          0.016076996435600704,
          0.022975691617997337,
          0.01276285401726024,
          0.037875793744895005,
          0.0470901301777455,
          0.027960109428124425,
          0.04293980522784555,
          0.01495070308711815,
          0.01637438472383685,
          0.018485614754327896,
          0.02137613761250309,
          0.05030927835051546,
          0.02501539527789856,
          0.022805058183521274,
          0.004465125023500658,
          0.008438369999269118,
          0.011636735377110335,
          0.04660407246581016,
          0.057917743598435094,
          0.03002057713977757,
          0.009657207166103963,
          0.015670949746876092,
          0.009937382273583465,
          0.01898285343381461,
          0.014472844888052491,
          0.024375281261976585,
          0.008208228723676795,
          0.028983469124825346,
          0.037112619181016625,
          0.004424103737604882,
          0.013239587417086583,
          0.025348829604166304,
          0.01222931211509679,
          0.0179771891519191,
          0.007606988788021651,
          0.02991178005146339,
          0.018119509745998633,
          0.012990800987211129,
          0.006876326066234125,
          0.019704459569603372,
          0.02102745250744027,
          0.014988154180084836,
          0.0010619469026548673,
          0.018387870965870776,
          0.015758352822356804,
          0.013444302176696543,
          0.00968783638320775,
          0.09063092088369178,
          0.024117672184491845,
          0.004974026898171209,
          0.016131279356739112,
          0.017277981436849013,
          0.01991106694316701,
          0.01889052105652186,
          0.010228112406105362,
          0.009329027628274129,
          0.012589427015108498,
          0.0352177764085185,
          0.005968492955528729,
          0.017600762079508222,
          0.02608938634750327,
          0.018866597197490315,
          0.02463140467061694,
          0.01591396562216303,
          0.009855545817210489,
          0.03194743892326338,
          0.017159476490547745,
          0.029232171203214093,
          0.012014374970639357,
          0.020402284088837316,
          0.013402712944148498,
          0.015444234270614155,
          0.0074992789154888955,
          0.0412573673870334,
          0.008089222002915715,
          0.03286161423166502,
          0.009166539495935476,
          0.02426044942795934,
          0.023783898360074232,
          0.002869145485622052,
          0.024873926646684596,
          0.017924193473707526,
          0.015477239198038612,
          0.011549088874121228,
          0.016221384843444115,
          0.03174963791781445
         ],
         "xaxis": "x",
         "y": [
          -0.24800000000000022,
          0.02800000000000047,
          0.04600000000000026,
          0.054999999999999716,
          0.4740000000000002,
          -0.2549999999999999,
          -0.005000000000000782,
          0.6369999999999996,
          0.15700000000000003,
          0.2969999999999997,
          0.21999999999999975,
          -0.33199999999999985,
          0.4530000000000003,
          -0.09899999999999931,
          0.0779999999999994,
          0.020999999999999908,
          -0.4319999999999995,
          0.30299999999999994,
          -0.6260000000000003,
          -0.03699999999999992,
          0.10500000000000043,
          0.3769999999999998,
          0.41000000000000014,
          -0.18900000000000006,
          0.5990000000000002,
          -0.26400000000000023,
          -0.274,
          -0.0470000000000006,
          -0.02400000000000002,
          -0.2320000000000002,
          -0.15700000000000003,
          -0.23099999999999987,
          -0.06500000000000039,
          -0.04600000000000026,
          -0.020999999999999908,
          -0.4059999999999997,
          -0.14400000000000013,
          0.06899999999999995,
          0.04999999999999982,
          -0.038000000000000256,
          -0.005000000000000782,
          -0.17799999999999994,
          0.30099999999999927,
          -0.016000000000000014,
          0.0600000000000005,
          0.07800000000000029,
          -0.5060000000000002,
          -0.25399999999999956,
          -0.19700000000000006,
          -0.13600000000000012,
          0.4450000000000003,
          0.034000000000000696,
          0.35299999999999976,
          -0.04600000000000026,
          -0.3340000000000005,
          -0.14100000000000001,
          0.11500000000000021,
          -0.004999999999999893,
          0.12300000000000022,
          -0.03999999999999915,
          0.020000000000000462,
          -0.7439999999999998,
          0.04699999999999971,
          0.10200000000000031,
          0.7999999999999998,
          0.027000000000000135,
          0.16100000000000048,
          -0.017999999999999794,
          -0.06599999999999984,
          0.036000000000000476,
          -0.18799999999999972,
          -0.0009999999999994458,
          0.009000000000000341,
          0.0519999999999996,
          -0.01100000000000012,
          0.04900000000000038,
          0.06299999999999972,
          0.09299999999999997,
          -0.1629999999999998,
          0.10000000000000053,
          -0.1349999999999998,
          0.0860000000000003,
          -0.004999999999999893,
          -0.3949999999999996,
          0.10299999999999976,
          0.266,
          -0.07699999999999996,
          0.12100000000000044,
          0.3180000000000005,
          -0.7649999999999997,
          -0.015000000000000124
         ],
         "yaxis": "y"
        }
       ],
       "layout": {
        "coloraxis": {
         "colorbar": {
          "title": {
           "text": "Total Deaths"
          }
         },
         "colorscale": [
          [
           0,
           "#0d0887"
          ],
          [
           0.1111111111111111,
           "#46039f"
          ],
          [
           0.2222222222222222,
           "#7201a8"
          ],
          [
           0.3333333333333333,
           "#9c179e"
          ],
          [
           0.4444444444444444,
           "#bd3786"
          ],
          [
           0.5555555555555556,
           "#d8576b"
          ],
          [
           0.6666666666666666,
           "#ed7953"
          ],
          [
           0.7777777777777778,
           "#fb9f3a"
          ],
          [
           0.8888888888888888,
           "#fdca26"
          ],
          [
           1,
           "#f0f921"
          ]
         ]
        },
        "legend": {
         "tracegroupgap": 0
        },
        "template": {
         "data": {
          "bar": [
           {
            "error_x": {
             "color": "#2a3f5f"
            },
            "error_y": {
             "color": "#2a3f5f"
            },
            "marker": {
             "line": {
              "color": "#E5ECF6",
              "width": 0.5
             }
            },
            "type": "bar"
           }
          ],
          "barpolar": [
           {
            "marker": {
             "line": {
              "color": "#E5ECF6",
              "width": 0.5
             }
            },
            "type": "barpolar"
           }
          ],
          "carpet": [
           {
            "aaxis": {
             "endlinecolor": "#2a3f5f",
             "gridcolor": "white",
             "linecolor": "white",
             "minorgridcolor": "white",
             "startlinecolor": "#2a3f5f"
            },
            "baxis": {
             "endlinecolor": "#2a3f5f",
             "gridcolor": "white",
             "linecolor": "white",
             "minorgridcolor": "white",
             "startlinecolor": "#2a3f5f"
            },
            "type": "carpet"
           }
          ],
          "choropleth": [
           {
            "colorbar": {
             "outlinewidth": 0,
             "ticks": ""
            },
            "type": "choropleth"
           }
          ],
          "contour": [
           {
            "colorbar": {
             "outlinewidth": 0,
             "ticks": ""
            },
            "colorscale": [
             [
              0,
              "#0d0887"
             ],
             [
              0.1111111111111111,
              "#46039f"
             ],
             [
              0.2222222222222222,
              "#7201a8"
             ],
             [
              0.3333333333333333,
              "#9c179e"
             ],
             [
              0.4444444444444444,
              "#bd3786"
             ],
             [
              0.5555555555555556,
              "#d8576b"
             ],
             [
              0.6666666666666666,
              "#ed7953"
             ],
             [
              0.7777777777777778,
              "#fb9f3a"
             ],
             [
              0.8888888888888888,
              "#fdca26"
             ],
             [
              1,
              "#f0f921"
             ]
            ],
            "type": "contour"
           }
          ],
          "contourcarpet": [
           {
            "colorbar": {
             "outlinewidth": 0,
             "ticks": ""
            },
            "type": "contourcarpet"
           }
          ],
          "heatmap": [
           {
            "colorbar": {
             "outlinewidth": 0,
             "ticks": ""
            },
            "colorscale": [
             [
              0,
              "#0d0887"
             ],
             [
              0.1111111111111111,
              "#46039f"
             ],
             [
              0.2222222222222222,
              "#7201a8"
             ],
             [
              0.3333333333333333,
              "#9c179e"
             ],
             [
              0.4444444444444444,
              "#bd3786"
             ],
             [
              0.5555555555555556,
              "#d8576b"
             ],
             [
              0.6666666666666666,
              "#ed7953"
             ],
             [
              0.7777777777777778,
              "#fb9f3a"
             ],
             [
              0.8888888888888888,
              "#fdca26"
             ],
             [
              1,
              "#f0f921"
             ]
            ],
            "type": "heatmap"
           }
          ],
          "heatmapgl": [
           {
            "colorbar": {
             "outlinewidth": 0,
             "ticks": ""
            },
            "colorscale": [
             [
              0,
              "#0d0887"
             ],
             [
              0.1111111111111111,
              "#46039f"
             ],
             [
              0.2222222222222222,
              "#7201a8"
             ],
             [
              0.3333333333333333,
              "#9c179e"
             ],
             [
              0.4444444444444444,
              "#bd3786"
             ],
             [
              0.5555555555555556,
              "#d8576b"
             ],
             [
              0.6666666666666666,
              "#ed7953"
             ],
             [
              0.7777777777777778,
              "#fb9f3a"
             ],
             [
              0.8888888888888888,
              "#fdca26"
             ],
             [
              1,
              "#f0f921"
             ]
            ],
            "type": "heatmapgl"
           }
          ],
          "histogram": [
           {
            "marker": {
             "colorbar": {
              "outlinewidth": 0,
              "ticks": ""
             }
            },
            "type": "histogram"
           }
          ],
          "histogram2d": [
           {
            "colorbar": {
             "outlinewidth": 0,
             "ticks": ""
            },
            "colorscale": [
             [
              0,
              "#0d0887"
             ],
             [
              0.1111111111111111,
              "#46039f"
             ],
             [
              0.2222222222222222,
              "#7201a8"
             ],
             [
              0.3333333333333333,
              "#9c179e"
             ],
             [
              0.4444444444444444,
              "#bd3786"
             ],
             [
              0.5555555555555556,
              "#d8576b"
             ],
             [
              0.6666666666666666,
              "#ed7953"
             ],
             [
              0.7777777777777778,
              "#fb9f3a"
             ],
             [
              0.8888888888888888,
              "#fdca26"
             ],
             [
              1,
              "#f0f921"
             ]
            ],
            "type": "histogram2d"
           }
          ],
          "histogram2dcontour": [
           {
            "colorbar": {
             "outlinewidth": 0,
             "ticks": ""
            },
            "colorscale": [
             [
              0,
              "#0d0887"
             ],
             [
              0.1111111111111111,
              "#46039f"
             ],
             [
              0.2222222222222222,
              "#7201a8"
             ],
             [
              0.3333333333333333,
              "#9c179e"
             ],
             [
              0.4444444444444444,
              "#bd3786"
             ],
             [
              0.5555555555555556,
              "#d8576b"
             ],
             [
              0.6666666666666666,
              "#ed7953"
             ],
             [
              0.7777777777777778,
              "#fb9f3a"
             ],
             [
              0.8888888888888888,
              "#fdca26"
             ],
             [
              1,
              "#f0f921"
             ]
            ],
            "type": "histogram2dcontour"
           }
          ],
          "mesh3d": [
           {
            "colorbar": {
             "outlinewidth": 0,
             "ticks": ""
            },
            "type": "mesh3d"
           }
          ],
          "parcoords": [
           {
            "line": {
             "colorbar": {
              "outlinewidth": 0,
              "ticks": ""
             }
            },
            "type": "parcoords"
           }
          ],
          "pie": [
           {
            "automargin": true,
            "type": "pie"
           }
          ],
          "scatter": [
           {
            "marker": {
             "colorbar": {
              "outlinewidth": 0,
              "ticks": ""
             }
            },
            "type": "scatter"
           }
          ],
          "scatter3d": [
           {
            "line": {
             "colorbar": {
              "outlinewidth": 0,
              "ticks": ""
             }
            },
            "marker": {
             "colorbar": {
              "outlinewidth": 0,
              "ticks": ""
             }
            },
            "type": "scatter3d"
           }
          ],
          "scattercarpet": [
           {
            "marker": {
             "colorbar": {
              "outlinewidth": 0,
              "ticks": ""
             }
            },
            "type": "scattercarpet"
           }
          ],
          "scattergeo": [
           {
            "marker": {
             "colorbar": {
              "outlinewidth": 0,
              "ticks": ""
             }
            },
            "type": "scattergeo"
           }
          ],
          "scattergl": [
           {
            "marker": {
             "colorbar": {
              "outlinewidth": 0,
              "ticks": ""
             }
            },
            "type": "scattergl"
           }
          ],
          "scattermapbox": [
           {
            "marker": {
             "colorbar": {
              "outlinewidth": 0,
              "ticks": ""
             }
            },
            "type": "scattermapbox"
           }
          ],
          "scatterpolar": [
           {
            "marker": {
             "colorbar": {
              "outlinewidth": 0,
              "ticks": ""
             }
            },
            "type": "scatterpolar"
           }
          ],
          "scatterpolargl": [
           {
            "marker": {
             "colorbar": {
              "outlinewidth": 0,
              "ticks": ""
             }
            },
            "type": "scatterpolargl"
           }
          ],
          "scatterternary": [
           {
            "marker": {
             "colorbar": {
              "outlinewidth": 0,
              "ticks": ""
             }
            },
            "type": "scatterternary"
           }
          ],
          "surface": [
           {
            "colorbar": {
             "outlinewidth": 0,
             "ticks": ""
            },
            "colorscale": [
             [
              0,
              "#0d0887"
             ],
             [
              0.1111111111111111,
              "#46039f"
             ],
             [
              0.2222222222222222,
              "#7201a8"
             ],
             [
              0.3333333333333333,
              "#9c179e"
             ],
             [
              0.4444444444444444,
              "#bd3786"
             ],
             [
              0.5555555555555556,
              "#d8576b"
             ],
             [
              0.6666666666666666,
              "#ed7953"
             ],
             [
              0.7777777777777778,
              "#fb9f3a"
             ],
             [
              0.8888888888888888,
              "#fdca26"
             ],
             [
              1,
              "#f0f921"
             ]
            ],
            "type": "surface"
           }
          ],
          "table": [
           {
            "cells": {
             "fill": {
              "color": "#EBF0F8"
             },
             "line": {
              "color": "white"
             }
            },
            "header": {
             "fill": {
              "color": "#C8D4E3"
             },
             "line": {
              "color": "white"
             }
            },
            "type": "table"
           }
          ]
         },
         "layout": {
          "annotationdefaults": {
           "arrowcolor": "#2a3f5f",
           "arrowhead": 0,
           "arrowwidth": 1
          },
          "autotypenumbers": "strict",
          "coloraxis": {
           "colorbar": {
            "outlinewidth": 0,
            "ticks": ""
           }
          },
          "colorscale": {
           "diverging": [
            [
             0,
             "#8e0152"
            ],
            [
             0.1,
             "#c51b7d"
            ],
            [
             0.2,
             "#de77ae"
            ],
            [
             0.3,
             "#f1b6da"
            ],
            [
             0.4,
             "#fde0ef"
            ],
            [
             0.5,
             "#f7f7f7"
            ],
            [
             0.6,
             "#e6f5d0"
            ],
            [
             0.7,
             "#b8e186"
            ],
            [
             0.8,
             "#7fbc41"
            ],
            [
             0.9,
             "#4d9221"
            ],
            [
             1,
             "#276419"
            ]
           ],
           "sequential": [
            [
             0,
             "#0d0887"
            ],
            [
             0.1111111111111111,
             "#46039f"
            ],
            [
             0.2222222222222222,
             "#7201a8"
            ],
            [
             0.3333333333333333,
             "#9c179e"
            ],
            [
             0.4444444444444444,
             "#bd3786"
            ],
            [
             0.5555555555555556,
             "#d8576b"
            ],
            [
             0.6666666666666666,
             "#ed7953"
            ],
            [
             0.7777777777777778,
             "#fb9f3a"
            ],
            [
             0.8888888888888888,
             "#fdca26"
            ],
            [
             1,
             "#f0f921"
            ]
           ],
           "sequentialminus": [
            [
             0,
             "#0d0887"
            ],
            [
             0.1111111111111111,
             "#46039f"
            ],
            [
             0.2222222222222222,
             "#7201a8"
            ],
            [
             0.3333333333333333,
             "#9c179e"
            ],
            [
             0.4444444444444444,
             "#bd3786"
            ],
            [
             0.5555555555555556,
             "#d8576b"
            ],
            [
             0.6666666666666666,
             "#ed7953"
            ],
            [
             0.7777777777777778,
             "#fb9f3a"
            ],
            [
             0.8888888888888888,
             "#fdca26"
            ],
            [
             1,
             "#f0f921"
            ]
           ]
          },
          "colorway": [
           "#636efa",
           "#EF553B",
           "#00cc96",
           "#ab63fa",
           "#FFA15A",
           "#19d3f3",
           "#FF6692",
           "#B6E880",
           "#FF97FF",
           "#FECB52"
          ],
          "font": {
           "color": "#2a3f5f"
          },
          "geo": {
           "bgcolor": "white",
           "lakecolor": "white",
           "landcolor": "#E5ECF6",
           "showlakes": true,
           "showland": true,
           "subunitcolor": "white"
          },
          "hoverlabel": {
           "align": "left"
          },
          "hovermode": "closest",
          "mapbox": {
           "style": "light"
          },
          "paper_bgcolor": "white",
          "plot_bgcolor": "#E5ECF6",
          "polar": {
           "angularaxis": {
            "gridcolor": "white",
            "linecolor": "white",
            "ticks": ""
           },
           "bgcolor": "#E5ECF6",
           "radialaxis": {
            "gridcolor": "white",
            "linecolor": "white",
            "ticks": ""
           }
          },
          "scene": {
           "xaxis": {
            "backgroundcolor": "#E5ECF6",
            "gridcolor": "white",
            "gridwidth": 2,
            "linecolor": "white",
            "showbackground": true,
            "ticks": "",
            "zerolinecolor": "white"
           },
           "yaxis": {
            "backgroundcolor": "#E5ECF6",
            "gridcolor": "white",
            "gridwidth": 2,
            "linecolor": "white",
            "showbackground": true,
            "ticks": "",
            "zerolinecolor": "white"
           },
           "zaxis": {
            "backgroundcolor": "#E5ECF6",
            "gridcolor": "white",
            "gridwidth": 2,
            "linecolor": "white",
            "showbackground": true,
            "ticks": "",
            "zerolinecolor": "white"
           }
          },
          "shapedefaults": {
           "line": {
            "color": "#2a3f5f"
           }
          },
          "ternary": {
           "aaxis": {
            "gridcolor": "white",
            "linecolor": "white",
            "ticks": ""
           },
           "baxis": {
            "gridcolor": "white",
            "linecolor": "white",
            "ticks": ""
           },
           "bgcolor": "#E5ECF6",
           "caxis": {
            "gridcolor": "white",
            "linecolor": "white",
            "ticks": ""
           }
          },
          "title": {
           "x": 0.05
          },
          "xaxis": {
           "automargin": true,
           "gridcolor": "white",
           "linecolor": "white",
           "ticks": "",
           "title": {
            "standoff": 15
           },
           "zerolinecolor": "white",
           "zerolinewidth": 2
          },
          "yaxis": {
           "automargin": true,
           "gridcolor": "white",
           "linecolor": "white",
           "ticks": "",
           "title": {
            "standoff": 15
           },
           "zerolinecolor": "white",
           "zerolinewidth": 2
          }
         }
        },
        "title": {
         "text": "Impact of the Coronavirus on a Country's Happiness"
        },
        "xaxis": {
         "anchor": "y",
         "domain": [
          0,
          1
         ],
         "title": {
          "text": "Deaths per Case"
         }
        },
        "yaxis": {
         "anchor": "x",
         "domain": [
          0,
          1
         ],
         "title": {
          "text": "Happiness Decrease After Pandemic"
         }
        }
       }
      },
      "text/html": [
       "<div>                            <div id=\"aecab827-7b87-4e42-aba8-39f784a9f594\" class=\"plotly-graph-div\" style=\"height:525px; width:100%;\"></div>            <script type=\"text/javascript\">                require([\"plotly\"], function(Plotly) {                    window.PLOTLYENV=window.PLOTLYENV || {};                                    if (document.getElementById(\"aecab827-7b87-4e42-aba8-39f784a9f594\")) {                    Plotly.newPlot(                        \"aecab827-7b87-4e42-aba8-39f784a9f594\",                        [{\"hovertemplate\": \"<b>%{hovertext}</b><br><br>Deaths per Case=%{x}<br>Happiness Decrease After Pandemic=%{y}<br>Total Deaths=%{marker.color}<extra></extra>\", \"hovertext\": [\"Albania\", \"Argentina\", \"Australia\", \"Austria\", \"Bahrain\", \"Bangladesh\", \"Belgium\", \"Benin\", \"Bolivia\", \"Bosnia and Herzegovina\", \"Brazil\", \"Bulgaria\", \"Cambodia\", \"Cameroon\", \"Canada\", \"Chile\", \"China\", \"Colombia\", \"Croatia\", \"Cyprus\", \"Denmark\", \"Dominican Republic\", \"Ecuador\", \"Egypt\", \"El Salvador\", \"Estonia\", \"Ethiopia\", \"Finland\", \"France\", \"Georgia\", \"Germany\", \"Ghana\", \"Greece\", \"Hungary\", \"Iceland\", \"India\", \"Iran\", \"Iraq\", \"Ireland\", \"Israel\", \"Italy\", \"Japan\", \"Jordan\", \"Kazakhstan\", \"Kenya\", \"Kosovo\", \"Kyrgyzstan\", \"Laos\", \"Latvia\", \"Lithuania\", \"Malta\", \"Mauritius\", \"Mexico\", \"Moldova\", \"Mongolia\", \"Montenegro\", \"Morocco\", \"Myanmar\", \"Namibia\", \"Netherlands\", \"New Zealand\", \"Nigeria\", \"North Macedonia\", \"Norway\", \"Philippines\", \"Poland\", \"Portugal\", \"Russia\", \"Saudi Arabia\", \"Serbia\", \"Slovakia\", \"Slovenia\", \"South Africa\", \"South Korea\", \"Spain\", \"Sweden\", \"Switzerland\", \"Tajikistan\", \"Tanzania\", \"Thailand\", \"Tunisia\", \"Turkey\", \"Uganda\", \"Ukraine\", \"United Arab Emirates\", \"United Kingdom\", \"United States\", \"Uruguay\", \"Venezuela\", \"Zambia\", \"Zimbabwe\"], \"legendgroup\": \"\", \"marker\": {\"color\": [2456.0, 99255.0, 912.0, 10723.0, 1378.0, 16639.0, 25205.0, 105.0, 17250.0, 9662.0, 534233.0, 18144.0, 925.0, 1324.0, 26405.0, 33980.0, 4636.0, 113335.0, 8229.0, 380.0, 2540.0, 3893.0, 21830.0, 16403.0, 2451.0, 1270.0, 4343.0, 976.0, 111543.0, 5468.0, 91268.0, 801.0, 12778.0, 30007.0, 29.0, 408764.0, 86041.0, 17592.0, 5006.0, 6438.0, 127788.0, 14905.0, 9843.0, 3578.0, 3723.0, 2268.0, 2113.0, 3.0, 2536.0, 4400.0, 420.0, 18.0, 235058.0, 6211.0, 699.0, 1621.0, 9384.0, 3927.0, 2019.0, 18050.0, 26.0, 2124.0, 5487.0, 796.0, 26015.0, 75160.0, 17164.0, 141335.0, 7976.0, 7073.0, 12521.0, 4425.0, 64509.0, 2046.0, 81020.0, 14643.0, 10900.0, 104.0, 21.0, 2791.0, 16494.0, 50096.0, 2129.0, 54981.0, 1870.0, 128697.0, 607392.0, 5833.0, 3302.0, 2867.0, 2236.0], \"coloraxis\": \"coloraxis\", \"opacity\": 1, \"symbol\": \"circle\"}, \"mode\": \"markers\", \"name\": \"\", \"orientation\": \"v\", \"showlegend\": false, \"type\": \"scatter\", \"x\": [0.018522289342896143, 0.02128594059924035, 0.029115985058902404, 0.016451264490552373, 0.005154793434184735, 0.016076996435600704, 0.022975691617997337, 0.01276285401726024, 0.037875793744895005, 0.0470901301777455, 0.027960109428124425, 0.04293980522784555, 0.01495070308711815, 0.01637438472383685, 0.018485614754327896, 0.02137613761250309, 0.05030927835051546, 0.02501539527789856, 0.022805058183521274, 0.004465125023500658, 0.008438369999269118, 0.011636735377110335, 0.04660407246581016, 0.057917743598435094, 0.03002057713977757, 0.009657207166103963, 0.015670949746876092, 0.009937382273583465, 0.01898285343381461, 0.014472844888052491, 0.024375281261976585, 0.008208228723676795, 0.028983469124825346, 0.037112619181016625, 0.004424103737604882, 0.013239587417086583, 0.025348829604166304, 0.01222931211509679, 0.0179771891519191, 0.007606988788021651, 0.02991178005146339, 0.018119509745998633, 0.012990800987211129, 0.006876326066234125, 0.019704459569603372, 0.02102745250744027, 0.014988154180084836, 0.0010619469026548673, 0.018387870965870776, 0.015758352822356804, 0.013444302176696543, 0.00968783638320775, 0.09063092088369178, 0.024117672184491845, 0.004974026898171209, 0.016131279356739112, 0.017277981436849013, 0.01991106694316701, 0.01889052105652186, 0.010228112406105362, 0.009329027628274129, 0.012589427015108498, 0.0352177764085185, 0.005968492955528729, 0.017600762079508222, 0.02608938634750327, 0.018866597197490315, 0.02463140467061694, 0.01591396562216303, 0.009855545817210489, 0.03194743892326338, 0.017159476490547745, 0.029232171203214093, 0.012014374970639357, 0.020402284088837316, 0.013402712944148498, 0.015444234270614155, 0.0074992789154888955, 0.0412573673870334, 0.008089222002915715, 0.03286161423166502, 0.009166539495935476, 0.02426044942795934, 0.023783898360074232, 0.002869145485622052, 0.024873926646684596, 0.017924193473707526, 0.015477239198038612, 0.011549088874121228, 0.016221384843444115, 0.03174963791781445], \"xaxis\": \"x\", \"y\": [-0.24800000000000022, 0.02800000000000047, 0.04600000000000026, 0.054999999999999716, 0.4740000000000002, -0.2549999999999999, -0.005000000000000782, 0.6369999999999996, 0.15700000000000003, 0.2969999999999997, 0.21999999999999975, -0.33199999999999985, 0.4530000000000003, -0.09899999999999931, 0.0779999999999994, 0.020999999999999908, -0.4319999999999995, 0.30299999999999994, -0.6260000000000003, -0.03699999999999992, 0.10500000000000043, 0.3769999999999998, 0.41000000000000014, -0.18900000000000006, 0.5990000000000002, -0.26400000000000023, -0.274, -0.0470000000000006, -0.02400000000000002, -0.2320000000000002, -0.15700000000000003, -0.23099999999999987, -0.06500000000000039, -0.04600000000000026, -0.020999999999999908, -0.4059999999999997, -0.14400000000000013, 0.06899999999999995, 0.04999999999999982, -0.038000000000000256, -0.005000000000000782, -0.17799999999999994, 0.30099999999999927, -0.016000000000000014, 0.0600000000000005, 0.07800000000000029, -0.5060000000000002, -0.25399999999999956, -0.19700000000000006, -0.13600000000000012, 0.4450000000000003, 0.034000000000000696, 0.35299999999999976, -0.04600000000000026, -0.3340000000000005, -0.14100000000000001, 0.11500000000000021, -0.004999999999999893, 0.12300000000000022, -0.03999999999999915, 0.020000000000000462, -0.7439999999999998, 0.04699999999999971, 0.10200000000000031, 0.7999999999999998, 0.027000000000000135, 0.16100000000000048, -0.017999999999999794, -0.06599999999999984, 0.036000000000000476, -0.18799999999999972, -0.0009999999999994458, 0.009000000000000341, 0.0519999999999996, -0.01100000000000012, 0.04900000000000038, 0.06299999999999972, 0.09299999999999997, -0.1629999999999998, 0.10000000000000053, -0.1349999999999998, 0.0860000000000003, -0.004999999999999893, -0.3949999999999996, 0.10299999999999976, 0.266, -0.07699999999999996, 0.12100000000000044, 0.3180000000000005, -0.7649999999999997, -0.015000000000000124], \"yaxis\": \"y\"}],                        {\"coloraxis\": {\"colorbar\": {\"title\": {\"text\": \"Total Deaths\"}}, \"colorscale\": [[0.0, \"#0d0887\"], [0.1111111111111111, \"#46039f\"], [0.2222222222222222, \"#7201a8\"], [0.3333333333333333, \"#9c179e\"], [0.4444444444444444, \"#bd3786\"], [0.5555555555555556, \"#d8576b\"], [0.6666666666666666, \"#ed7953\"], [0.7777777777777778, \"#fb9f3a\"], [0.8888888888888888, \"#fdca26\"], [1.0, \"#f0f921\"]]}, \"legend\": {\"tracegroupgap\": 0}, \"template\": {\"data\": {\"bar\": [{\"error_x\": {\"color\": \"#2a3f5f\"}, \"error_y\": {\"color\": \"#2a3f5f\"}, \"marker\": {\"line\": {\"color\": \"#E5ECF6\", \"width\": 0.5}}, \"type\": \"bar\"}], \"barpolar\": [{\"marker\": {\"line\": {\"color\": \"#E5ECF6\", \"width\": 0.5}}, \"type\": \"barpolar\"}], \"carpet\": [{\"aaxis\": {\"endlinecolor\": \"#2a3f5f\", \"gridcolor\": \"white\", \"linecolor\": \"white\", \"minorgridcolor\": \"white\", \"startlinecolor\": \"#2a3f5f\"}, \"baxis\": {\"endlinecolor\": \"#2a3f5f\", \"gridcolor\": \"white\", \"linecolor\": \"white\", \"minorgridcolor\": \"white\", \"startlinecolor\": \"#2a3f5f\"}, \"type\": \"carpet\"}], \"choropleth\": [{\"colorbar\": {\"outlinewidth\": 0, \"ticks\": \"\"}, \"type\": \"choropleth\"}], \"contour\": [{\"colorbar\": {\"outlinewidth\": 0, \"ticks\": \"\"}, \"colorscale\": [[0.0, \"#0d0887\"], [0.1111111111111111, \"#46039f\"], [0.2222222222222222, \"#7201a8\"], [0.3333333333333333, \"#9c179e\"], [0.4444444444444444, \"#bd3786\"], [0.5555555555555556, \"#d8576b\"], [0.6666666666666666, \"#ed7953\"], [0.7777777777777778, \"#fb9f3a\"], [0.8888888888888888, \"#fdca26\"], [1.0, \"#f0f921\"]], \"type\": \"contour\"}], \"contourcarpet\": [{\"colorbar\": {\"outlinewidth\": 0, \"ticks\": \"\"}, \"type\": \"contourcarpet\"}], \"heatmap\": [{\"colorbar\": {\"outlinewidth\": 0, \"ticks\": \"\"}, \"colorscale\": [[0.0, \"#0d0887\"], [0.1111111111111111, \"#46039f\"], [0.2222222222222222, \"#7201a8\"], [0.3333333333333333, \"#9c179e\"], [0.4444444444444444, \"#bd3786\"], [0.5555555555555556, \"#d8576b\"], [0.6666666666666666, \"#ed7953\"], [0.7777777777777778, \"#fb9f3a\"], [0.8888888888888888, \"#fdca26\"], [1.0, \"#f0f921\"]], \"type\": \"heatmap\"}], \"heatmapgl\": [{\"colorbar\": {\"outlinewidth\": 0, \"ticks\": \"\"}, \"colorscale\": [[0.0, \"#0d0887\"], [0.1111111111111111, \"#46039f\"], [0.2222222222222222, \"#7201a8\"], [0.3333333333333333, \"#9c179e\"], [0.4444444444444444, \"#bd3786\"], [0.5555555555555556, \"#d8576b\"], [0.6666666666666666, \"#ed7953\"], [0.7777777777777778, \"#fb9f3a\"], [0.8888888888888888, \"#fdca26\"], [1.0, \"#f0f921\"]], \"type\": \"heatmapgl\"}], \"histogram\": [{\"marker\": {\"colorbar\": {\"outlinewidth\": 0, \"ticks\": \"\"}}, \"type\": \"histogram\"}], \"histogram2d\": [{\"colorbar\": {\"outlinewidth\": 0, \"ticks\": \"\"}, \"colorscale\": [[0.0, \"#0d0887\"], [0.1111111111111111, \"#46039f\"], [0.2222222222222222, \"#7201a8\"], [0.3333333333333333, \"#9c179e\"], [0.4444444444444444, \"#bd3786\"], [0.5555555555555556, \"#d8576b\"], [0.6666666666666666, \"#ed7953\"], [0.7777777777777778, \"#fb9f3a\"], [0.8888888888888888, \"#fdca26\"], [1.0, \"#f0f921\"]], \"type\": \"histogram2d\"}], \"histogram2dcontour\": [{\"colorbar\": {\"outlinewidth\": 0, \"ticks\": \"\"}, \"colorscale\": [[0.0, \"#0d0887\"], [0.1111111111111111, \"#46039f\"], [0.2222222222222222, \"#7201a8\"], [0.3333333333333333, \"#9c179e\"], [0.4444444444444444, \"#bd3786\"], [0.5555555555555556, \"#d8576b\"], [0.6666666666666666, \"#ed7953\"], [0.7777777777777778, \"#fb9f3a\"], [0.8888888888888888, \"#fdca26\"], [1.0, \"#f0f921\"]], \"type\": \"histogram2dcontour\"}], \"mesh3d\": [{\"colorbar\": {\"outlinewidth\": 0, \"ticks\": \"\"}, \"type\": \"mesh3d\"}], \"parcoords\": [{\"line\": {\"colorbar\": {\"outlinewidth\": 0, \"ticks\": \"\"}}, \"type\": \"parcoords\"}], \"pie\": [{\"automargin\": true, \"type\": \"pie\"}], \"scatter\": [{\"marker\": {\"colorbar\": {\"outlinewidth\": 0, \"ticks\": \"\"}}, \"type\": \"scatter\"}], \"scatter3d\": [{\"line\": {\"colorbar\": {\"outlinewidth\": 0, \"ticks\": \"\"}}, \"marker\": {\"colorbar\": {\"outlinewidth\": 0, \"ticks\": \"\"}}, \"type\": \"scatter3d\"}], \"scattercarpet\": [{\"marker\": {\"colorbar\": {\"outlinewidth\": 0, \"ticks\": \"\"}}, \"type\": \"scattercarpet\"}], \"scattergeo\": [{\"marker\": {\"colorbar\": {\"outlinewidth\": 0, \"ticks\": \"\"}}, \"type\": \"scattergeo\"}], \"scattergl\": [{\"marker\": {\"colorbar\": {\"outlinewidth\": 0, \"ticks\": \"\"}}, \"type\": \"scattergl\"}], \"scattermapbox\": [{\"marker\": {\"colorbar\": {\"outlinewidth\": 0, \"ticks\": \"\"}}, \"type\": \"scattermapbox\"}], \"scatterpolar\": [{\"marker\": {\"colorbar\": {\"outlinewidth\": 0, \"ticks\": \"\"}}, \"type\": \"scatterpolar\"}], \"scatterpolargl\": [{\"marker\": {\"colorbar\": {\"outlinewidth\": 0, \"ticks\": \"\"}}, \"type\": \"scatterpolargl\"}], \"scatterternary\": [{\"marker\": {\"colorbar\": {\"outlinewidth\": 0, \"ticks\": \"\"}}, \"type\": \"scatterternary\"}], \"surface\": [{\"colorbar\": {\"outlinewidth\": 0, \"ticks\": \"\"}, \"colorscale\": [[0.0, \"#0d0887\"], [0.1111111111111111, \"#46039f\"], [0.2222222222222222, \"#7201a8\"], [0.3333333333333333, \"#9c179e\"], [0.4444444444444444, \"#bd3786\"], [0.5555555555555556, \"#d8576b\"], [0.6666666666666666, \"#ed7953\"], [0.7777777777777778, \"#fb9f3a\"], [0.8888888888888888, \"#fdca26\"], [1.0, \"#f0f921\"]], \"type\": \"surface\"}], \"table\": [{\"cells\": {\"fill\": {\"color\": \"#EBF0F8\"}, \"line\": {\"color\": \"white\"}}, \"header\": {\"fill\": {\"color\": \"#C8D4E3\"}, \"line\": {\"color\": \"white\"}}, \"type\": \"table\"}]}, \"layout\": {\"annotationdefaults\": {\"arrowcolor\": \"#2a3f5f\", \"arrowhead\": 0, \"arrowwidth\": 1}, \"autotypenumbers\": \"strict\", \"coloraxis\": {\"colorbar\": {\"outlinewidth\": 0, \"ticks\": \"\"}}, \"colorscale\": {\"diverging\": [[0, \"#8e0152\"], [0.1, \"#c51b7d\"], [0.2, \"#de77ae\"], [0.3, \"#f1b6da\"], [0.4, \"#fde0ef\"], [0.5, \"#f7f7f7\"], [0.6, \"#e6f5d0\"], [0.7, \"#b8e186\"], [0.8, \"#7fbc41\"], [0.9, \"#4d9221\"], [1, \"#276419\"]], \"sequential\": [[0.0, \"#0d0887\"], [0.1111111111111111, \"#46039f\"], [0.2222222222222222, \"#7201a8\"], [0.3333333333333333, \"#9c179e\"], [0.4444444444444444, \"#bd3786\"], [0.5555555555555556, \"#d8576b\"], [0.6666666666666666, \"#ed7953\"], [0.7777777777777778, \"#fb9f3a\"], [0.8888888888888888, \"#fdca26\"], [1.0, \"#f0f921\"]], \"sequentialminus\": [[0.0, \"#0d0887\"], [0.1111111111111111, \"#46039f\"], [0.2222222222222222, \"#7201a8\"], [0.3333333333333333, \"#9c179e\"], [0.4444444444444444, \"#bd3786\"], [0.5555555555555556, \"#d8576b\"], [0.6666666666666666, \"#ed7953\"], [0.7777777777777778, \"#fb9f3a\"], [0.8888888888888888, \"#fdca26\"], [1.0, \"#f0f921\"]]}, \"colorway\": [\"#636efa\", \"#EF553B\", \"#00cc96\", \"#ab63fa\", \"#FFA15A\", \"#19d3f3\", \"#FF6692\", \"#B6E880\", \"#FF97FF\", \"#FECB52\"], \"font\": {\"color\": \"#2a3f5f\"}, \"geo\": {\"bgcolor\": \"white\", \"lakecolor\": \"white\", \"landcolor\": \"#E5ECF6\", \"showlakes\": true, \"showland\": true, \"subunitcolor\": \"white\"}, \"hoverlabel\": {\"align\": \"left\"}, \"hovermode\": \"closest\", \"mapbox\": {\"style\": \"light\"}, \"paper_bgcolor\": \"white\", \"plot_bgcolor\": \"#E5ECF6\", \"polar\": {\"angularaxis\": {\"gridcolor\": \"white\", \"linecolor\": \"white\", \"ticks\": \"\"}, \"bgcolor\": \"#E5ECF6\", \"radialaxis\": {\"gridcolor\": \"white\", \"linecolor\": \"white\", \"ticks\": \"\"}}, \"scene\": {\"xaxis\": {\"backgroundcolor\": \"#E5ECF6\", \"gridcolor\": \"white\", \"gridwidth\": 2, \"linecolor\": \"white\", \"showbackground\": true, \"ticks\": \"\", \"zerolinecolor\": \"white\"}, \"yaxis\": {\"backgroundcolor\": \"#E5ECF6\", \"gridcolor\": \"white\", \"gridwidth\": 2, \"linecolor\": \"white\", \"showbackground\": true, \"ticks\": \"\", \"zerolinecolor\": \"white\"}, \"zaxis\": {\"backgroundcolor\": \"#E5ECF6\", \"gridcolor\": \"white\", \"gridwidth\": 2, \"linecolor\": \"white\", \"showbackground\": true, \"ticks\": \"\", \"zerolinecolor\": \"white\"}}, \"shapedefaults\": {\"line\": {\"color\": \"#2a3f5f\"}}, \"ternary\": {\"aaxis\": {\"gridcolor\": \"white\", \"linecolor\": \"white\", \"ticks\": \"\"}, \"baxis\": {\"gridcolor\": \"white\", \"linecolor\": \"white\", \"ticks\": \"\"}, \"bgcolor\": \"#E5ECF6\", \"caxis\": {\"gridcolor\": \"white\", \"linecolor\": \"white\", \"ticks\": \"\"}}, \"title\": {\"x\": 0.05}, \"xaxis\": {\"automargin\": true, \"gridcolor\": \"white\", \"linecolor\": \"white\", \"ticks\": \"\", \"title\": {\"standoff\": 15}, \"zerolinecolor\": \"white\", \"zerolinewidth\": 2}, \"yaxis\": {\"automargin\": true, \"gridcolor\": \"white\", \"linecolor\": \"white\", \"ticks\": \"\", \"title\": {\"standoff\": 15}, \"zerolinecolor\": \"white\", \"zerolinewidth\": 2}}}, \"title\": {\"text\": \"Impact of the Coronavirus on a Country's Happiness\"}, \"xaxis\": {\"anchor\": \"y\", \"domain\": [0.0, 1.0], \"title\": {\"text\": \"Deaths per Case\"}}, \"yaxis\": {\"anchor\": \"x\", \"domain\": [0.0, 1.0], \"title\": {\"text\": \"Happiness Decrease After Pandemic\"}}},                        {\"responsive\": true}                    ).then(function(){\n",
       "                            \n",
       "var gd = document.getElementById('aecab827-7b87-4e42-aba8-39f784a9f594');\n",
       "var x = new MutationObserver(function (mutations, observer) {{\n",
       "        var display = window.getComputedStyle(gd).display;\n",
       "        if (!display || display === 'none') {{\n",
       "            console.log([gd, 'removed!']);\n",
       "            Plotly.purge(gd);\n",
       "            observer.disconnect();\n",
       "        }}\n",
       "}});\n",
       "\n",
       "// Listen for the removal of the full notebook cells\n",
       "var notebookContainer = gd.closest('#notebook-container');\n",
       "if (notebookContainer) {{\n",
       "    x.observe(notebookContainer, {childList: true});\n",
       "}}\n",
       "\n",
       "// Listen for the clearing of the current output cell\n",
       "var outputEl = gd.closest('.output');\n",
       "if (outputEl) {{\n",
       "    x.observe(outputEl, {childList: true});\n",
       "}}\n",
       "\n",
       "                        })                };                });            </script>        </div>"
      ]
     },
     "metadata": {},
     "output_type": "display_data"
    }
   ],
   "source": [
    "px.scatter(rona_differ, y='rona_diff', x='deaths per case', color='total_deaths', opacity=1,\n",
    "           title = 'Impact of the Coronavirus on a Country\\'s Happiness',\n",
    "           labels={'deaths per case':'Deaths per Case', 'total_deaths':'Total Deaths', 'rona_diff': 'Happiness Change After Pandemic'}, hover_name='Country name')"
   ]
  },
  {
   "cell_type": "code",
   "execution_count": 82,
   "id": "a5f194d2",
   "metadata": {},
   "outputs": [
    {
     "data": {
      "application/vnd.plotly.v1+json": {
       "config": {
        "plotlyServerURL": "https://plot.ly"
       },
       "data": [
        {
         "hovertemplate": "<b>%{hovertext}</b><br><br>Total Deaths=%{x}<br>Happiness Change After Pandemic=%{y}<br>Deaths per Case=%{marker.color}<extra></extra>",
         "hovertext": [
          "Albania",
          "Argentina",
          "Australia",
          "Austria",
          "Bahrain",
          "Bangladesh",
          "Belgium",
          "Benin",
          "Bolivia",
          "Bosnia and Herzegovina",
          "Brazil",
          "Bulgaria",
          "Cambodia",
          "Cameroon",
          "Canada",
          "Chile",
          "China",
          "Colombia",
          "Croatia",
          "Cyprus",
          "Denmark",
          "Dominican Republic",
          "Ecuador",
          "Egypt",
          "El Salvador",
          "Estonia",
          "Ethiopia",
          "Finland",
          "France",
          "Georgia",
          "Germany",
          "Ghana",
          "Greece",
          "Hungary",
          "Iceland",
          "India",
          "Iran",
          "Iraq",
          "Ireland",
          "Israel",
          "Italy",
          "Japan",
          "Jordan",
          "Kazakhstan",
          "Kenya",
          "Kosovo",
          "Kyrgyzstan",
          "Laos",
          "Latvia",
          "Lithuania",
          "Malta",
          "Mauritius",
          "Mexico",
          "Moldova",
          "Mongolia",
          "Montenegro",
          "Morocco",
          "Myanmar",
          "Namibia",
          "Netherlands",
          "New Zealand",
          "Nigeria",
          "North Macedonia",
          "Norway",
          "Philippines",
          "Poland",
          "Portugal",
          "Russia",
          "Saudi Arabia",
          "Serbia",
          "Slovakia",
          "Slovenia",
          "South Africa",
          "South Korea",
          "Spain",
          "Sweden",
          "Switzerland",
          "Tajikistan",
          "Tanzania",
          "Thailand",
          "Tunisia",
          "Turkey",
          "Uganda",
          "Ukraine",
          "United Arab Emirates",
          "United Kingdom",
          "United States",
          "Uruguay",
          "Venezuela",
          "Zambia",
          "Zimbabwe"
         ],
         "legendgroup": "",
         "marker": {
          "color": [
           0.018522289342896143,
           0.02128594059924035,
           0.029115985058902404,
           0.016451264490552373,
           0.005154793434184735,
           0.016076996435600704,
           0.022975691617997337,
           0.01276285401726024,
           0.037875793744895005,
           0.0470901301777455,
           0.027960109428124425,
           0.04293980522784555,
           0.01495070308711815,
           0.01637438472383685,
           0.018485614754327896,
           0.02137613761250309,
           0.05030927835051546,
           0.02501539527789856,
           0.022805058183521274,
           0.004465125023500658,
           0.008438369999269118,
           0.011636735377110335,
           0.04660407246581016,
           0.057917743598435094,
           0.03002057713977757,
           0.009657207166103963,
           0.015670949746876092,
           0.009937382273583465,
           0.01898285343381461,
           0.014472844888052491,
           0.024375281261976585,
           0.008208228723676795,
           0.028983469124825346,
           0.037112619181016625,
           0.004424103737604882,
           0.013239587417086583,
           0.025348829604166304,
           0.01222931211509679,
           0.0179771891519191,
           0.007606988788021651,
           0.02991178005146339,
           0.018119509745998633,
           0.012990800987211129,
           0.006876326066234125,
           0.019704459569603372,
           0.02102745250744027,
           0.014988154180084836,
           0.0010619469026548673,
           0.018387870965870776,
           0.015758352822356804,
           0.013444302176696543,
           0.00968783638320775,
           0.09063092088369178,
           0.024117672184491845,
           0.004974026898171209,
           0.016131279356739112,
           0.017277981436849013,
           0.01991106694316701,
           0.01889052105652186,
           0.010228112406105362,
           0.009329027628274129,
           0.012589427015108498,
           0.0352177764085185,
           0.005968492955528729,
           0.017600762079508222,
           0.02608938634750327,
           0.018866597197490315,
           0.02463140467061694,
           0.01591396562216303,
           0.009855545817210489,
           0.03194743892326338,
           0.017159476490547745,
           0.029232171203214093,
           0.012014374970639357,
           0.020402284088837316,
           0.013402712944148498,
           0.015444234270614155,
           0.0074992789154888955,
           0.0412573673870334,
           0.008089222002915715,
           0.03286161423166502,
           0.009166539495935476,
           0.02426044942795934,
           0.023783898360074232,
           0.002869145485622052,
           0.024873926646684596,
           0.017924193473707526,
           0.015477239198038612,
           0.011549088874121228,
           0.016221384843444115,
           0.03174963791781445
          ],
          "coloraxis": "coloraxis",
          "opacity": 1,
          "symbol": "circle"
         },
         "mode": "markers",
         "name": "",
         "orientation": "v",
         "showlegend": false,
         "type": "scatter",
         "x": [
          2456,
          99255,
          912,
          10723,
          1378,
          16639,
          25205,
          105,
          17250,
          9662,
          534233,
          18144,
          925,
          1324,
          26405,
          33980,
          4636,
          113335,
          8229,
          380,
          2540,
          3893,
          21830,
          16403,
          2451,
          1270,
          4343,
          976,
          111543,
          5468,
          91268,
          801,
          12778,
          30007,
          29,
          408764,
          86041,
          17592,
          5006,
          6438,
          127788,
          14905,
          9843,
          3578,
          3723,
          2268,
          2113,
          3,
          2536,
          4400,
          420,
          18,
          235058,
          6211,
          699,
          1621,
          9384,
          3927,
          2019,
          18050,
          26,
          2124,
          5487,
          796,
          26015,
          75160,
          17164,
          141335,
          7976,
          7073,
          12521,
          4425,
          64509,
          2046,
          81020,
          14643,
          10900,
          104,
          21,
          2791,
          16494,
          50096,
          2129,
          54981,
          1870,
          128697,
          607392,
          5833,
          3302,
          2867,
          2236
         ],
         "xaxis": "x",
         "y": [
          -0.24800000000000022,
          0.02800000000000047,
          0.04600000000000026,
          0.054999999999999716,
          0.4740000000000002,
          -0.2549999999999999,
          -0.005000000000000782,
          0.6369999999999996,
          0.15700000000000003,
          0.2969999999999997,
          0.21999999999999975,
          -0.33199999999999985,
          0.4530000000000003,
          -0.09899999999999931,
          0.0779999999999994,
          0.020999999999999908,
          -0.4319999999999995,
          0.30299999999999994,
          -0.6260000000000003,
          -0.03699999999999992,
          0.10500000000000043,
          0.3769999999999998,
          0.41000000000000014,
          -0.18900000000000006,
          0.5990000000000002,
          -0.26400000000000023,
          -0.274,
          -0.0470000000000006,
          -0.02400000000000002,
          -0.2320000000000002,
          -0.15700000000000003,
          -0.23099999999999987,
          -0.06500000000000039,
          -0.04600000000000026,
          -0.020999999999999908,
          -0.4059999999999997,
          -0.14400000000000013,
          0.06899999999999995,
          0.04999999999999982,
          -0.038000000000000256,
          -0.005000000000000782,
          -0.17799999999999994,
          0.30099999999999927,
          -0.016000000000000014,
          0.0600000000000005,
          0.07800000000000029,
          -0.5060000000000002,
          -0.25399999999999956,
          -0.19700000000000006,
          -0.13600000000000012,
          0.4450000000000003,
          0.034000000000000696,
          0.35299999999999976,
          -0.04600000000000026,
          -0.3340000000000005,
          -0.14100000000000001,
          0.11500000000000021,
          -0.004999999999999893,
          0.12300000000000022,
          -0.03999999999999915,
          0.020000000000000462,
          -0.7439999999999998,
          0.04699999999999971,
          0.10200000000000031,
          0.7999999999999998,
          0.027000000000000135,
          0.16100000000000048,
          -0.017999999999999794,
          -0.06599999999999984,
          0.036000000000000476,
          -0.18799999999999972,
          -0.0009999999999994458,
          0.009000000000000341,
          0.0519999999999996,
          -0.01100000000000012,
          0.04900000000000038,
          0.06299999999999972,
          0.09299999999999997,
          -0.1629999999999998,
          0.10000000000000053,
          -0.1349999999999998,
          0.0860000000000003,
          -0.004999999999999893,
          -0.3949999999999996,
          0.10299999999999976,
          0.266,
          -0.07699999999999996,
          0.12100000000000044,
          0.3180000000000005,
          -0.7649999999999997,
          -0.015000000000000124
         ],
         "yaxis": "y"
        }
       ],
       "layout": {
        "coloraxis": {
         "colorbar": {
          "title": {
           "text": "Deaths per Case"
          }
         },
         "colorscale": [
          [
           0,
           "#0d0887"
          ],
          [
           0.1111111111111111,
           "#46039f"
          ],
          [
           0.2222222222222222,
           "#7201a8"
          ],
          [
           0.3333333333333333,
           "#9c179e"
          ],
          [
           0.4444444444444444,
           "#bd3786"
          ],
          [
           0.5555555555555556,
           "#d8576b"
          ],
          [
           0.6666666666666666,
           "#ed7953"
          ],
          [
           0.7777777777777778,
           "#fb9f3a"
          ],
          [
           0.8888888888888888,
           "#fdca26"
          ],
          [
           1,
           "#f0f921"
          ]
         ]
        },
        "legend": {
         "tracegroupgap": 0
        },
        "template": {
         "data": {
          "bar": [
           {
            "error_x": {
             "color": "#2a3f5f"
            },
            "error_y": {
             "color": "#2a3f5f"
            },
            "marker": {
             "line": {
              "color": "#E5ECF6",
              "width": 0.5
             }
            },
            "type": "bar"
           }
          ],
          "barpolar": [
           {
            "marker": {
             "line": {
              "color": "#E5ECF6",
              "width": 0.5
             }
            },
            "type": "barpolar"
           }
          ],
          "carpet": [
           {
            "aaxis": {
             "endlinecolor": "#2a3f5f",
             "gridcolor": "white",
             "linecolor": "white",
             "minorgridcolor": "white",
             "startlinecolor": "#2a3f5f"
            },
            "baxis": {
             "endlinecolor": "#2a3f5f",
             "gridcolor": "white",
             "linecolor": "white",
             "minorgridcolor": "white",
             "startlinecolor": "#2a3f5f"
            },
            "type": "carpet"
           }
          ],
          "choropleth": [
           {
            "colorbar": {
             "outlinewidth": 0,
             "ticks": ""
            },
            "type": "choropleth"
           }
          ],
          "contour": [
           {
            "colorbar": {
             "outlinewidth": 0,
             "ticks": ""
            },
            "colorscale": [
             [
              0,
              "#0d0887"
             ],
             [
              0.1111111111111111,
              "#46039f"
             ],
             [
              0.2222222222222222,
              "#7201a8"
             ],
             [
              0.3333333333333333,
              "#9c179e"
             ],
             [
              0.4444444444444444,
              "#bd3786"
             ],
             [
              0.5555555555555556,
              "#d8576b"
             ],
             [
              0.6666666666666666,
              "#ed7953"
             ],
             [
              0.7777777777777778,
              "#fb9f3a"
             ],
             [
              0.8888888888888888,
              "#fdca26"
             ],
             [
              1,
              "#f0f921"
             ]
            ],
            "type": "contour"
           }
          ],
          "contourcarpet": [
           {
            "colorbar": {
             "outlinewidth": 0,
             "ticks": ""
            },
            "type": "contourcarpet"
           }
          ],
          "heatmap": [
           {
            "colorbar": {
             "outlinewidth": 0,
             "ticks": ""
            },
            "colorscale": [
             [
              0,
              "#0d0887"
             ],
             [
              0.1111111111111111,
              "#46039f"
             ],
             [
              0.2222222222222222,
              "#7201a8"
             ],
             [
              0.3333333333333333,
              "#9c179e"
             ],
             [
              0.4444444444444444,
              "#bd3786"
             ],
             [
              0.5555555555555556,
              "#d8576b"
             ],
             [
              0.6666666666666666,
              "#ed7953"
             ],
             [
              0.7777777777777778,
              "#fb9f3a"
             ],
             [
              0.8888888888888888,
              "#fdca26"
             ],
             [
              1,
              "#f0f921"
             ]
            ],
            "type": "heatmap"
           }
          ],
          "heatmapgl": [
           {
            "colorbar": {
             "outlinewidth": 0,
             "ticks": ""
            },
            "colorscale": [
             [
              0,
              "#0d0887"
             ],
             [
              0.1111111111111111,
              "#46039f"
             ],
             [
              0.2222222222222222,
              "#7201a8"
             ],
             [
              0.3333333333333333,
              "#9c179e"
             ],
             [
              0.4444444444444444,
              "#bd3786"
             ],
             [
              0.5555555555555556,
              "#d8576b"
             ],
             [
              0.6666666666666666,
              "#ed7953"
             ],
             [
              0.7777777777777778,
              "#fb9f3a"
             ],
             [
              0.8888888888888888,
              "#fdca26"
             ],
             [
              1,
              "#f0f921"
             ]
            ],
            "type": "heatmapgl"
           }
          ],
          "histogram": [
           {
            "marker": {
             "colorbar": {
              "outlinewidth": 0,
              "ticks": ""
             }
            },
            "type": "histogram"
           }
          ],
          "histogram2d": [
           {
            "colorbar": {
             "outlinewidth": 0,
             "ticks": ""
            },
            "colorscale": [
             [
              0,
              "#0d0887"
             ],
             [
              0.1111111111111111,
              "#46039f"
             ],
             [
              0.2222222222222222,
              "#7201a8"
             ],
             [
              0.3333333333333333,
              "#9c179e"
             ],
             [
              0.4444444444444444,
              "#bd3786"
             ],
             [
              0.5555555555555556,
              "#d8576b"
             ],
             [
              0.6666666666666666,
              "#ed7953"
             ],
             [
              0.7777777777777778,
              "#fb9f3a"
             ],
             [
              0.8888888888888888,
              "#fdca26"
             ],
             [
              1,
              "#f0f921"
             ]
            ],
            "type": "histogram2d"
           }
          ],
          "histogram2dcontour": [
           {
            "colorbar": {
             "outlinewidth": 0,
             "ticks": ""
            },
            "colorscale": [
             [
              0,
              "#0d0887"
             ],
             [
              0.1111111111111111,
              "#46039f"
             ],
             [
              0.2222222222222222,
              "#7201a8"
             ],
             [
              0.3333333333333333,
              "#9c179e"
             ],
             [
              0.4444444444444444,
              "#bd3786"
             ],
             [
              0.5555555555555556,
              "#d8576b"
             ],
             [
              0.6666666666666666,
              "#ed7953"
             ],
             [
              0.7777777777777778,
              "#fb9f3a"
             ],
             [
              0.8888888888888888,
              "#fdca26"
             ],
             [
              1,
              "#f0f921"
             ]
            ],
            "type": "histogram2dcontour"
           }
          ],
          "mesh3d": [
           {
            "colorbar": {
             "outlinewidth": 0,
             "ticks": ""
            },
            "type": "mesh3d"
           }
          ],
          "parcoords": [
           {
            "line": {
             "colorbar": {
              "outlinewidth": 0,
              "ticks": ""
             }
            },
            "type": "parcoords"
           }
          ],
          "pie": [
           {
            "automargin": true,
            "type": "pie"
           }
          ],
          "scatter": [
           {
            "marker": {
             "colorbar": {
              "outlinewidth": 0,
              "ticks": ""
             }
            },
            "type": "scatter"
           }
          ],
          "scatter3d": [
           {
            "line": {
             "colorbar": {
              "outlinewidth": 0,
              "ticks": ""
             }
            },
            "marker": {
             "colorbar": {
              "outlinewidth": 0,
              "ticks": ""
             }
            },
            "type": "scatter3d"
           }
          ],
          "scattercarpet": [
           {
            "marker": {
             "colorbar": {
              "outlinewidth": 0,
              "ticks": ""
             }
            },
            "type": "scattercarpet"
           }
          ],
          "scattergeo": [
           {
            "marker": {
             "colorbar": {
              "outlinewidth": 0,
              "ticks": ""
             }
            },
            "type": "scattergeo"
           }
          ],
          "scattergl": [
           {
            "marker": {
             "colorbar": {
              "outlinewidth": 0,
              "ticks": ""
             }
            },
            "type": "scattergl"
           }
          ],
          "scattermapbox": [
           {
            "marker": {
             "colorbar": {
              "outlinewidth": 0,
              "ticks": ""
             }
            },
            "type": "scattermapbox"
           }
          ],
          "scatterpolar": [
           {
            "marker": {
             "colorbar": {
              "outlinewidth": 0,
              "ticks": ""
             }
            },
            "type": "scatterpolar"
           }
          ],
          "scatterpolargl": [
           {
            "marker": {
             "colorbar": {
              "outlinewidth": 0,
              "ticks": ""
             }
            },
            "type": "scatterpolargl"
           }
          ],
          "scatterternary": [
           {
            "marker": {
             "colorbar": {
              "outlinewidth": 0,
              "ticks": ""
             }
            },
            "type": "scatterternary"
           }
          ],
          "surface": [
           {
            "colorbar": {
             "outlinewidth": 0,
             "ticks": ""
            },
            "colorscale": [
             [
              0,
              "#0d0887"
             ],
             [
              0.1111111111111111,
              "#46039f"
             ],
             [
              0.2222222222222222,
              "#7201a8"
             ],
             [
              0.3333333333333333,
              "#9c179e"
             ],
             [
              0.4444444444444444,
              "#bd3786"
             ],
             [
              0.5555555555555556,
              "#d8576b"
             ],
             [
              0.6666666666666666,
              "#ed7953"
             ],
             [
              0.7777777777777778,
              "#fb9f3a"
             ],
             [
              0.8888888888888888,
              "#fdca26"
             ],
             [
              1,
              "#f0f921"
             ]
            ],
            "type": "surface"
           }
          ],
          "table": [
           {
            "cells": {
             "fill": {
              "color": "#EBF0F8"
             },
             "line": {
              "color": "white"
             }
            },
            "header": {
             "fill": {
              "color": "#C8D4E3"
             },
             "line": {
              "color": "white"
             }
            },
            "type": "table"
           }
          ]
         },
         "layout": {
          "annotationdefaults": {
           "arrowcolor": "#2a3f5f",
           "arrowhead": 0,
           "arrowwidth": 1
          },
          "autotypenumbers": "strict",
          "coloraxis": {
           "colorbar": {
            "outlinewidth": 0,
            "ticks": ""
           }
          },
          "colorscale": {
           "diverging": [
            [
             0,
             "#8e0152"
            ],
            [
             0.1,
             "#c51b7d"
            ],
            [
             0.2,
             "#de77ae"
            ],
            [
             0.3,
             "#f1b6da"
            ],
            [
             0.4,
             "#fde0ef"
            ],
            [
             0.5,
             "#f7f7f7"
            ],
            [
             0.6,
             "#e6f5d0"
            ],
            [
             0.7,
             "#b8e186"
            ],
            [
             0.8,
             "#7fbc41"
            ],
            [
             0.9,
             "#4d9221"
            ],
            [
             1,
             "#276419"
            ]
           ],
           "sequential": [
            [
             0,
             "#0d0887"
            ],
            [
             0.1111111111111111,
             "#46039f"
            ],
            [
             0.2222222222222222,
             "#7201a8"
            ],
            [
             0.3333333333333333,
             "#9c179e"
            ],
            [
             0.4444444444444444,
             "#bd3786"
            ],
            [
             0.5555555555555556,
             "#d8576b"
            ],
            [
             0.6666666666666666,
             "#ed7953"
            ],
            [
             0.7777777777777778,
             "#fb9f3a"
            ],
            [
             0.8888888888888888,
             "#fdca26"
            ],
            [
             1,
             "#f0f921"
            ]
           ],
           "sequentialminus": [
            [
             0,
             "#0d0887"
            ],
            [
             0.1111111111111111,
             "#46039f"
            ],
            [
             0.2222222222222222,
             "#7201a8"
            ],
            [
             0.3333333333333333,
             "#9c179e"
            ],
            [
             0.4444444444444444,
             "#bd3786"
            ],
            [
             0.5555555555555556,
             "#d8576b"
            ],
            [
             0.6666666666666666,
             "#ed7953"
            ],
            [
             0.7777777777777778,
             "#fb9f3a"
            ],
            [
             0.8888888888888888,
             "#fdca26"
            ],
            [
             1,
             "#f0f921"
            ]
           ]
          },
          "colorway": [
           "#636efa",
           "#EF553B",
           "#00cc96",
           "#ab63fa",
           "#FFA15A",
           "#19d3f3",
           "#FF6692",
           "#B6E880",
           "#FF97FF",
           "#FECB52"
          ],
          "font": {
           "color": "#2a3f5f"
          },
          "geo": {
           "bgcolor": "white",
           "lakecolor": "white",
           "landcolor": "#E5ECF6",
           "showlakes": true,
           "showland": true,
           "subunitcolor": "white"
          },
          "hoverlabel": {
           "align": "left"
          },
          "hovermode": "closest",
          "mapbox": {
           "style": "light"
          },
          "paper_bgcolor": "white",
          "plot_bgcolor": "#E5ECF6",
          "polar": {
           "angularaxis": {
            "gridcolor": "white",
            "linecolor": "white",
            "ticks": ""
           },
           "bgcolor": "#E5ECF6",
           "radialaxis": {
            "gridcolor": "white",
            "linecolor": "white",
            "ticks": ""
           }
          },
          "scene": {
           "xaxis": {
            "backgroundcolor": "#E5ECF6",
            "gridcolor": "white",
            "gridwidth": 2,
            "linecolor": "white",
            "showbackground": true,
            "ticks": "",
            "zerolinecolor": "white"
           },
           "yaxis": {
            "backgroundcolor": "#E5ECF6",
            "gridcolor": "white",
            "gridwidth": 2,
            "linecolor": "white",
            "showbackground": true,
            "ticks": "",
            "zerolinecolor": "white"
           },
           "zaxis": {
            "backgroundcolor": "#E5ECF6",
            "gridcolor": "white",
            "gridwidth": 2,
            "linecolor": "white",
            "showbackground": true,
            "ticks": "",
            "zerolinecolor": "white"
           }
          },
          "shapedefaults": {
           "line": {
            "color": "#2a3f5f"
           }
          },
          "ternary": {
           "aaxis": {
            "gridcolor": "white",
            "linecolor": "white",
            "ticks": ""
           },
           "baxis": {
            "gridcolor": "white",
            "linecolor": "white",
            "ticks": ""
           },
           "bgcolor": "#E5ECF6",
           "caxis": {
            "gridcolor": "white",
            "linecolor": "white",
            "ticks": ""
           }
          },
          "title": {
           "x": 0.05
          },
          "xaxis": {
           "automargin": true,
           "gridcolor": "white",
           "linecolor": "white",
           "ticks": "",
           "title": {
            "standoff": 15
           },
           "zerolinecolor": "white",
           "zerolinewidth": 2
          },
          "yaxis": {
           "automargin": true,
           "gridcolor": "white",
           "linecolor": "white",
           "ticks": "",
           "title": {
            "standoff": 15
           },
           "zerolinecolor": "white",
           "zerolinewidth": 2
          }
         }
        },
        "title": {
         "text": "Impact of the Coronavirus on a Country's Happiness"
        },
        "xaxis": {
         "anchor": "y",
         "domain": [
          0,
          1
         ],
         "title": {
          "text": "Total Deaths"
         }
        },
        "yaxis": {
         "anchor": "x",
         "domain": [
          0,
          1
         ],
         "title": {
          "text": "Happiness Change After Pandemic"
         }
        }
       }
      },
      "text/html": [
       "<div>                            <div id=\"3180315b-591d-4a39-a53f-dd0c0fd57a34\" class=\"plotly-graph-div\" style=\"height:525px; width:100%;\"></div>            <script type=\"text/javascript\">                require([\"plotly\"], function(Plotly) {                    window.PLOTLYENV=window.PLOTLYENV || {};                                    if (document.getElementById(\"3180315b-591d-4a39-a53f-dd0c0fd57a34\")) {                    Plotly.newPlot(                        \"3180315b-591d-4a39-a53f-dd0c0fd57a34\",                        [{\"hovertemplate\": \"<b>%{hovertext}</b><br><br>Total Deaths=%{x}<br>Happiness Change After Pandemic=%{y}<br>Deaths per Case=%{marker.color}<extra></extra>\", \"hovertext\": [\"Albania\", \"Argentina\", \"Australia\", \"Austria\", \"Bahrain\", \"Bangladesh\", \"Belgium\", \"Benin\", \"Bolivia\", \"Bosnia and Herzegovina\", \"Brazil\", \"Bulgaria\", \"Cambodia\", \"Cameroon\", \"Canada\", \"Chile\", \"China\", \"Colombia\", \"Croatia\", \"Cyprus\", \"Denmark\", \"Dominican Republic\", \"Ecuador\", \"Egypt\", \"El Salvador\", \"Estonia\", \"Ethiopia\", \"Finland\", \"France\", \"Georgia\", \"Germany\", \"Ghana\", \"Greece\", \"Hungary\", \"Iceland\", \"India\", \"Iran\", \"Iraq\", \"Ireland\", \"Israel\", \"Italy\", \"Japan\", \"Jordan\", \"Kazakhstan\", \"Kenya\", \"Kosovo\", \"Kyrgyzstan\", \"Laos\", \"Latvia\", \"Lithuania\", \"Malta\", \"Mauritius\", \"Mexico\", \"Moldova\", \"Mongolia\", \"Montenegro\", \"Morocco\", \"Myanmar\", \"Namibia\", \"Netherlands\", \"New Zealand\", \"Nigeria\", \"North Macedonia\", \"Norway\", \"Philippines\", \"Poland\", \"Portugal\", \"Russia\", \"Saudi Arabia\", \"Serbia\", \"Slovakia\", \"Slovenia\", \"South Africa\", \"South Korea\", \"Spain\", \"Sweden\", \"Switzerland\", \"Tajikistan\", \"Tanzania\", \"Thailand\", \"Tunisia\", \"Turkey\", \"Uganda\", \"Ukraine\", \"United Arab Emirates\", \"United Kingdom\", \"United States\", \"Uruguay\", \"Venezuela\", \"Zambia\", \"Zimbabwe\"], \"legendgroup\": \"\", \"marker\": {\"color\": [0.018522289342896143, 0.02128594059924035, 0.029115985058902404, 0.016451264490552373, 0.005154793434184735, 0.016076996435600704, 0.022975691617997337, 0.01276285401726024, 0.037875793744895005, 0.0470901301777455, 0.027960109428124425, 0.04293980522784555, 0.01495070308711815, 0.01637438472383685, 0.018485614754327896, 0.02137613761250309, 0.05030927835051546, 0.02501539527789856, 0.022805058183521274, 0.004465125023500658, 0.008438369999269118, 0.011636735377110335, 0.04660407246581016, 0.057917743598435094, 0.03002057713977757, 0.009657207166103963, 0.015670949746876092, 0.009937382273583465, 0.01898285343381461, 0.014472844888052491, 0.024375281261976585, 0.008208228723676795, 0.028983469124825346, 0.037112619181016625, 0.004424103737604882, 0.013239587417086583, 0.025348829604166304, 0.01222931211509679, 0.0179771891519191, 0.007606988788021651, 0.02991178005146339, 0.018119509745998633, 0.012990800987211129, 0.006876326066234125, 0.019704459569603372, 0.02102745250744027, 0.014988154180084836, 0.0010619469026548673, 0.018387870965870776, 0.015758352822356804, 0.013444302176696543, 0.00968783638320775, 0.09063092088369178, 0.024117672184491845, 0.004974026898171209, 0.016131279356739112, 0.017277981436849013, 0.01991106694316701, 0.01889052105652186, 0.010228112406105362, 0.009329027628274129, 0.012589427015108498, 0.0352177764085185, 0.005968492955528729, 0.017600762079508222, 0.02608938634750327, 0.018866597197490315, 0.02463140467061694, 0.01591396562216303, 0.009855545817210489, 0.03194743892326338, 0.017159476490547745, 0.029232171203214093, 0.012014374970639357, 0.020402284088837316, 0.013402712944148498, 0.015444234270614155, 0.0074992789154888955, 0.0412573673870334, 0.008089222002915715, 0.03286161423166502, 0.009166539495935476, 0.02426044942795934, 0.023783898360074232, 0.002869145485622052, 0.024873926646684596, 0.017924193473707526, 0.015477239198038612, 0.011549088874121228, 0.016221384843444115, 0.03174963791781445], \"coloraxis\": \"coloraxis\", \"opacity\": 1, \"symbol\": \"circle\"}, \"mode\": \"markers\", \"name\": \"\", \"orientation\": \"v\", \"showlegend\": false, \"type\": \"scatter\", \"x\": [2456.0, 99255.0, 912.0, 10723.0, 1378.0, 16639.0, 25205.0, 105.0, 17250.0, 9662.0, 534233.0, 18144.0, 925.0, 1324.0, 26405.0, 33980.0, 4636.0, 113335.0, 8229.0, 380.0, 2540.0, 3893.0, 21830.0, 16403.0, 2451.0, 1270.0, 4343.0, 976.0, 111543.0, 5468.0, 91268.0, 801.0, 12778.0, 30007.0, 29.0, 408764.0, 86041.0, 17592.0, 5006.0, 6438.0, 127788.0, 14905.0, 9843.0, 3578.0, 3723.0, 2268.0, 2113.0, 3.0, 2536.0, 4400.0, 420.0, 18.0, 235058.0, 6211.0, 699.0, 1621.0, 9384.0, 3927.0, 2019.0, 18050.0, 26.0, 2124.0, 5487.0, 796.0, 26015.0, 75160.0, 17164.0, 141335.0, 7976.0, 7073.0, 12521.0, 4425.0, 64509.0, 2046.0, 81020.0, 14643.0, 10900.0, 104.0, 21.0, 2791.0, 16494.0, 50096.0, 2129.0, 54981.0, 1870.0, 128697.0, 607392.0, 5833.0, 3302.0, 2867.0, 2236.0], \"xaxis\": \"x\", \"y\": [-0.24800000000000022, 0.02800000000000047, 0.04600000000000026, 0.054999999999999716, 0.4740000000000002, -0.2549999999999999, -0.005000000000000782, 0.6369999999999996, 0.15700000000000003, 0.2969999999999997, 0.21999999999999975, -0.33199999999999985, 0.4530000000000003, -0.09899999999999931, 0.0779999999999994, 0.020999999999999908, -0.4319999999999995, 0.30299999999999994, -0.6260000000000003, -0.03699999999999992, 0.10500000000000043, 0.3769999999999998, 0.41000000000000014, -0.18900000000000006, 0.5990000000000002, -0.26400000000000023, -0.274, -0.0470000000000006, -0.02400000000000002, -0.2320000000000002, -0.15700000000000003, -0.23099999999999987, -0.06500000000000039, -0.04600000000000026, -0.020999999999999908, -0.4059999999999997, -0.14400000000000013, 0.06899999999999995, 0.04999999999999982, -0.038000000000000256, -0.005000000000000782, -0.17799999999999994, 0.30099999999999927, -0.016000000000000014, 0.0600000000000005, 0.07800000000000029, -0.5060000000000002, -0.25399999999999956, -0.19700000000000006, -0.13600000000000012, 0.4450000000000003, 0.034000000000000696, 0.35299999999999976, -0.04600000000000026, -0.3340000000000005, -0.14100000000000001, 0.11500000000000021, -0.004999999999999893, 0.12300000000000022, -0.03999999999999915, 0.020000000000000462, -0.7439999999999998, 0.04699999999999971, 0.10200000000000031, 0.7999999999999998, 0.027000000000000135, 0.16100000000000048, -0.017999999999999794, -0.06599999999999984, 0.036000000000000476, -0.18799999999999972, -0.0009999999999994458, 0.009000000000000341, 0.0519999999999996, -0.01100000000000012, 0.04900000000000038, 0.06299999999999972, 0.09299999999999997, -0.1629999999999998, 0.10000000000000053, -0.1349999999999998, 0.0860000000000003, -0.004999999999999893, -0.3949999999999996, 0.10299999999999976, 0.266, -0.07699999999999996, 0.12100000000000044, 0.3180000000000005, -0.7649999999999997, -0.015000000000000124], \"yaxis\": \"y\"}],                        {\"coloraxis\": {\"colorbar\": {\"title\": {\"text\": \"Deaths per Case\"}}, \"colorscale\": [[0.0, \"#0d0887\"], [0.1111111111111111, \"#46039f\"], [0.2222222222222222, \"#7201a8\"], [0.3333333333333333, \"#9c179e\"], [0.4444444444444444, \"#bd3786\"], [0.5555555555555556, \"#d8576b\"], [0.6666666666666666, \"#ed7953\"], [0.7777777777777778, \"#fb9f3a\"], [0.8888888888888888, \"#fdca26\"], [1.0, \"#f0f921\"]]}, \"legend\": {\"tracegroupgap\": 0}, \"template\": {\"data\": {\"bar\": [{\"error_x\": {\"color\": \"#2a3f5f\"}, \"error_y\": {\"color\": \"#2a3f5f\"}, \"marker\": {\"line\": {\"color\": \"#E5ECF6\", \"width\": 0.5}}, \"type\": \"bar\"}], \"barpolar\": [{\"marker\": {\"line\": {\"color\": \"#E5ECF6\", \"width\": 0.5}}, \"type\": \"barpolar\"}], \"carpet\": [{\"aaxis\": {\"endlinecolor\": \"#2a3f5f\", \"gridcolor\": \"white\", \"linecolor\": \"white\", \"minorgridcolor\": \"white\", \"startlinecolor\": \"#2a3f5f\"}, \"baxis\": {\"endlinecolor\": \"#2a3f5f\", \"gridcolor\": \"white\", \"linecolor\": \"white\", \"minorgridcolor\": \"white\", \"startlinecolor\": \"#2a3f5f\"}, \"type\": \"carpet\"}], \"choropleth\": [{\"colorbar\": {\"outlinewidth\": 0, \"ticks\": \"\"}, \"type\": \"choropleth\"}], \"contour\": [{\"colorbar\": {\"outlinewidth\": 0, \"ticks\": \"\"}, \"colorscale\": [[0.0, \"#0d0887\"], [0.1111111111111111, \"#46039f\"], [0.2222222222222222, \"#7201a8\"], [0.3333333333333333, \"#9c179e\"], [0.4444444444444444, \"#bd3786\"], [0.5555555555555556, \"#d8576b\"], [0.6666666666666666, \"#ed7953\"], [0.7777777777777778, \"#fb9f3a\"], [0.8888888888888888, \"#fdca26\"], [1.0, \"#f0f921\"]], \"type\": \"contour\"}], \"contourcarpet\": [{\"colorbar\": {\"outlinewidth\": 0, \"ticks\": \"\"}, \"type\": \"contourcarpet\"}], \"heatmap\": [{\"colorbar\": {\"outlinewidth\": 0, \"ticks\": \"\"}, \"colorscale\": [[0.0, \"#0d0887\"], [0.1111111111111111, \"#46039f\"], [0.2222222222222222, \"#7201a8\"], [0.3333333333333333, \"#9c179e\"], [0.4444444444444444, \"#bd3786\"], [0.5555555555555556, \"#d8576b\"], [0.6666666666666666, \"#ed7953\"], [0.7777777777777778, \"#fb9f3a\"], [0.8888888888888888, \"#fdca26\"], [1.0, \"#f0f921\"]], \"type\": \"heatmap\"}], \"heatmapgl\": [{\"colorbar\": {\"outlinewidth\": 0, \"ticks\": \"\"}, \"colorscale\": [[0.0, \"#0d0887\"], [0.1111111111111111, \"#46039f\"], [0.2222222222222222, \"#7201a8\"], [0.3333333333333333, \"#9c179e\"], [0.4444444444444444, \"#bd3786\"], [0.5555555555555556, \"#d8576b\"], [0.6666666666666666, \"#ed7953\"], [0.7777777777777778, \"#fb9f3a\"], [0.8888888888888888, \"#fdca26\"], [1.0, \"#f0f921\"]], \"type\": \"heatmapgl\"}], \"histogram\": [{\"marker\": {\"colorbar\": {\"outlinewidth\": 0, \"ticks\": \"\"}}, \"type\": \"histogram\"}], \"histogram2d\": [{\"colorbar\": {\"outlinewidth\": 0, \"ticks\": \"\"}, \"colorscale\": [[0.0, \"#0d0887\"], [0.1111111111111111, \"#46039f\"], [0.2222222222222222, \"#7201a8\"], [0.3333333333333333, \"#9c179e\"], [0.4444444444444444, \"#bd3786\"], [0.5555555555555556, \"#d8576b\"], [0.6666666666666666, \"#ed7953\"], [0.7777777777777778, \"#fb9f3a\"], [0.8888888888888888, \"#fdca26\"], [1.0, \"#f0f921\"]], \"type\": \"histogram2d\"}], \"histogram2dcontour\": [{\"colorbar\": {\"outlinewidth\": 0, \"ticks\": \"\"}, \"colorscale\": [[0.0, \"#0d0887\"], [0.1111111111111111, \"#46039f\"], [0.2222222222222222, \"#7201a8\"], [0.3333333333333333, \"#9c179e\"], [0.4444444444444444, \"#bd3786\"], [0.5555555555555556, \"#d8576b\"], [0.6666666666666666, \"#ed7953\"], [0.7777777777777778, \"#fb9f3a\"], [0.8888888888888888, \"#fdca26\"], [1.0, \"#f0f921\"]], \"type\": \"histogram2dcontour\"}], \"mesh3d\": [{\"colorbar\": {\"outlinewidth\": 0, \"ticks\": \"\"}, \"type\": \"mesh3d\"}], \"parcoords\": [{\"line\": {\"colorbar\": {\"outlinewidth\": 0, \"ticks\": \"\"}}, \"type\": \"parcoords\"}], \"pie\": [{\"automargin\": true, \"type\": \"pie\"}], \"scatter\": [{\"marker\": {\"colorbar\": {\"outlinewidth\": 0, \"ticks\": \"\"}}, \"type\": \"scatter\"}], \"scatter3d\": [{\"line\": {\"colorbar\": {\"outlinewidth\": 0, \"ticks\": \"\"}}, \"marker\": {\"colorbar\": {\"outlinewidth\": 0, \"ticks\": \"\"}}, \"type\": \"scatter3d\"}], \"scattercarpet\": [{\"marker\": {\"colorbar\": {\"outlinewidth\": 0, \"ticks\": \"\"}}, \"type\": \"scattercarpet\"}], \"scattergeo\": [{\"marker\": {\"colorbar\": {\"outlinewidth\": 0, \"ticks\": \"\"}}, \"type\": \"scattergeo\"}], \"scattergl\": [{\"marker\": {\"colorbar\": {\"outlinewidth\": 0, \"ticks\": \"\"}}, \"type\": \"scattergl\"}], \"scattermapbox\": [{\"marker\": {\"colorbar\": {\"outlinewidth\": 0, \"ticks\": \"\"}}, \"type\": \"scattermapbox\"}], \"scatterpolar\": [{\"marker\": {\"colorbar\": {\"outlinewidth\": 0, \"ticks\": \"\"}}, \"type\": \"scatterpolar\"}], \"scatterpolargl\": [{\"marker\": {\"colorbar\": {\"outlinewidth\": 0, \"ticks\": \"\"}}, \"type\": \"scatterpolargl\"}], \"scatterternary\": [{\"marker\": {\"colorbar\": {\"outlinewidth\": 0, \"ticks\": \"\"}}, \"type\": \"scatterternary\"}], \"surface\": [{\"colorbar\": {\"outlinewidth\": 0, \"ticks\": \"\"}, \"colorscale\": [[0.0, \"#0d0887\"], [0.1111111111111111, \"#46039f\"], [0.2222222222222222, \"#7201a8\"], [0.3333333333333333, \"#9c179e\"], [0.4444444444444444, \"#bd3786\"], [0.5555555555555556, \"#d8576b\"], [0.6666666666666666, \"#ed7953\"], [0.7777777777777778, \"#fb9f3a\"], [0.8888888888888888, \"#fdca26\"], [1.0, \"#f0f921\"]], \"type\": \"surface\"}], \"table\": [{\"cells\": {\"fill\": {\"color\": \"#EBF0F8\"}, \"line\": {\"color\": \"white\"}}, \"header\": {\"fill\": {\"color\": \"#C8D4E3\"}, \"line\": {\"color\": \"white\"}}, \"type\": \"table\"}]}, \"layout\": {\"annotationdefaults\": {\"arrowcolor\": \"#2a3f5f\", \"arrowhead\": 0, \"arrowwidth\": 1}, \"autotypenumbers\": \"strict\", \"coloraxis\": {\"colorbar\": {\"outlinewidth\": 0, \"ticks\": \"\"}}, \"colorscale\": {\"diverging\": [[0, \"#8e0152\"], [0.1, \"#c51b7d\"], [0.2, \"#de77ae\"], [0.3, \"#f1b6da\"], [0.4, \"#fde0ef\"], [0.5, \"#f7f7f7\"], [0.6, \"#e6f5d0\"], [0.7, \"#b8e186\"], [0.8, \"#7fbc41\"], [0.9, \"#4d9221\"], [1, \"#276419\"]], \"sequential\": [[0.0, \"#0d0887\"], [0.1111111111111111, \"#46039f\"], [0.2222222222222222, \"#7201a8\"], [0.3333333333333333, \"#9c179e\"], [0.4444444444444444, \"#bd3786\"], [0.5555555555555556, \"#d8576b\"], [0.6666666666666666, \"#ed7953\"], [0.7777777777777778, \"#fb9f3a\"], [0.8888888888888888, \"#fdca26\"], [1.0, \"#f0f921\"]], \"sequentialminus\": [[0.0, \"#0d0887\"], [0.1111111111111111, \"#46039f\"], [0.2222222222222222, \"#7201a8\"], [0.3333333333333333, \"#9c179e\"], [0.4444444444444444, \"#bd3786\"], [0.5555555555555556, \"#d8576b\"], [0.6666666666666666, \"#ed7953\"], [0.7777777777777778, \"#fb9f3a\"], [0.8888888888888888, \"#fdca26\"], [1.0, \"#f0f921\"]]}, \"colorway\": [\"#636efa\", \"#EF553B\", \"#00cc96\", \"#ab63fa\", \"#FFA15A\", \"#19d3f3\", \"#FF6692\", \"#B6E880\", \"#FF97FF\", \"#FECB52\"], \"font\": {\"color\": \"#2a3f5f\"}, \"geo\": {\"bgcolor\": \"white\", \"lakecolor\": \"white\", \"landcolor\": \"#E5ECF6\", \"showlakes\": true, \"showland\": true, \"subunitcolor\": \"white\"}, \"hoverlabel\": {\"align\": \"left\"}, \"hovermode\": \"closest\", \"mapbox\": {\"style\": \"light\"}, \"paper_bgcolor\": \"white\", \"plot_bgcolor\": \"#E5ECF6\", \"polar\": {\"angularaxis\": {\"gridcolor\": \"white\", \"linecolor\": \"white\", \"ticks\": \"\"}, \"bgcolor\": \"#E5ECF6\", \"radialaxis\": {\"gridcolor\": \"white\", \"linecolor\": \"white\", \"ticks\": \"\"}}, \"scene\": {\"xaxis\": {\"backgroundcolor\": \"#E5ECF6\", \"gridcolor\": \"white\", \"gridwidth\": 2, \"linecolor\": \"white\", \"showbackground\": true, \"ticks\": \"\", \"zerolinecolor\": \"white\"}, \"yaxis\": {\"backgroundcolor\": \"#E5ECF6\", \"gridcolor\": \"white\", \"gridwidth\": 2, \"linecolor\": \"white\", \"showbackground\": true, \"ticks\": \"\", \"zerolinecolor\": \"white\"}, \"zaxis\": {\"backgroundcolor\": \"#E5ECF6\", \"gridcolor\": \"white\", \"gridwidth\": 2, \"linecolor\": \"white\", \"showbackground\": true, \"ticks\": \"\", \"zerolinecolor\": \"white\"}}, \"shapedefaults\": {\"line\": {\"color\": \"#2a3f5f\"}}, \"ternary\": {\"aaxis\": {\"gridcolor\": \"white\", \"linecolor\": \"white\", \"ticks\": \"\"}, \"baxis\": {\"gridcolor\": \"white\", \"linecolor\": \"white\", \"ticks\": \"\"}, \"bgcolor\": \"#E5ECF6\", \"caxis\": {\"gridcolor\": \"white\", \"linecolor\": \"white\", \"ticks\": \"\"}}, \"title\": {\"x\": 0.05}, \"xaxis\": {\"automargin\": true, \"gridcolor\": \"white\", \"linecolor\": \"white\", \"ticks\": \"\", \"title\": {\"standoff\": 15}, \"zerolinecolor\": \"white\", \"zerolinewidth\": 2}, \"yaxis\": {\"automargin\": true, \"gridcolor\": \"white\", \"linecolor\": \"white\", \"ticks\": \"\", \"title\": {\"standoff\": 15}, \"zerolinecolor\": \"white\", \"zerolinewidth\": 2}}}, \"title\": {\"text\": \"Impact of the Coronavirus on a Country's Happiness\"}, \"xaxis\": {\"anchor\": \"y\", \"domain\": [0.0, 1.0], \"title\": {\"text\": \"Total Deaths\"}}, \"yaxis\": {\"anchor\": \"x\", \"domain\": [0.0, 1.0], \"title\": {\"text\": \"Happiness Change After Pandemic\"}}},                        {\"responsive\": true}                    ).then(function(){\n",
       "                            \n",
       "var gd = document.getElementById('3180315b-591d-4a39-a53f-dd0c0fd57a34');\n",
       "var x = new MutationObserver(function (mutations, observer) {{\n",
       "        var display = window.getComputedStyle(gd).display;\n",
       "        if (!display || display === 'none') {{\n",
       "            console.log([gd, 'removed!']);\n",
       "            Plotly.purge(gd);\n",
       "            observer.disconnect();\n",
       "        }}\n",
       "}});\n",
       "\n",
       "// Listen for the removal of the full notebook cells\n",
       "var notebookContainer = gd.closest('#notebook-container');\n",
       "if (notebookContainer) {{\n",
       "    x.observe(notebookContainer, {childList: true});\n",
       "}}\n",
       "\n",
       "// Listen for the clearing of the current output cell\n",
       "var outputEl = gd.closest('.output');\n",
       "if (outputEl) {{\n",
       "    x.observe(outputEl, {childList: true});\n",
       "}}\n",
       "\n",
       "                        })                };                });            </script>        </div>"
      ]
     },
     "metadata": {},
     "output_type": "display_data"
    }
   ],
   "source": [
    "px.scatter(rona_differ, y='rona_diff', x='total_deaths', color='deaths per case', opacity=1,\n",
    "           title = 'Impact of the Coronavirus on a Country\\'s Happiness',\n",
    "           labels={'deaths per case':'Deaths per Case', 'total_deaths':'Total Deaths', 'rona_diff': 'Happiness Change After Pandemic'}, hover_name='Country name')"
   ]
  },
  {
   "cell_type": "code",
   "execution_count": null,
   "id": "fe68e374",
   "metadata": {},
   "outputs": [],
   "source": [
    "#Still need to style and add some markdown to make the narrative clear"
   ]
  },
  {
   "cell_type": "code",
   "execution_count": null,
   "id": "c2f79e24",
   "metadata": {},
   "outputs": [],
   "source": [
    "#Jackson's Section End "
   ]
  },
  {
   "cell_type": "code",
   "execution_count": null,
   "id": "a12186d2",
   "metadata": {},
   "outputs": [],
   "source": []
  }
 ],
 "metadata": {
  "kernelspec": {
   "display_name": "Python 3",
   "language": "python",
   "name": "python3"
  },
  "language_info": {
   "codemirror_mode": {
    "name": "ipython",
    "version": 3
   },
   "file_extension": ".py",
   "mimetype": "text/x-python",
   "name": "python",
   "nbconvert_exporter": "python",
   "pygments_lexer": "ipython3",
   "version": "3.7.10"
  }
 },
 "nbformat": 4,
 "nbformat_minor": 5
}
